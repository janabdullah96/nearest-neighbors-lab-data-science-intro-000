{
 "cells": [
  {
   "cell_type": "markdown",
   "metadata": {},
   "source": [
    "# Nearest Neighbors Lab"
   ]
  },
  {
   "cell_type": "markdown",
   "metadata": {},
   "source": [
    "### Introduction\n",
    "\n",
    "In this lab, you apply nearest neighbors technique to help a taxi company predict the length of their rides.  Imagine that we are hired to consult for LiftOff, a limo and taxi service that is just opening up in NYC.  Liftoff wants it's taxi drivers to target longer rides, as the longer the ride the more money it makes.  LiftOff has the following theory:\n",
    "\n",
    "* the pickup location of a taxi ride can help predict the length of the ride.  \n",
    "\n",
    "\n",
    "\n",
    "LiftOff asks us to do some analysis to write a function that will allow it to **predict the length of a taxi ride for any given location **.\n",
    "\n",
    "Our technique will be the following:\n",
    "  * **Collect** Obtain the data containing all of the taxi information, and only select the attributes of taxi trips that we need \n",
    "  * ** Explore ** Examine the attributes of our data, and plot some of our data on a map\n",
    "  * ** Train ** Write our nearest neighbors formula, and change the number of nearby trips to predict the length of a new trip\n",
    "  * ** Predict ** Use our function to predict trip lengths of new locations"
   ]
  },
  {
   "cell_type": "markdown",
   "metadata": {},
   "source": [
    "### Collect and Explore the data"
   ]
  },
  {
   "cell_type": "markdown",
   "metadata": {},
   "source": [
    "#### Collect the Data"
   ]
  },
  {
   "cell_type": "markdown",
   "metadata": {},
   "source": [
    "Luckily for us, [NYC Open Data](https://opendata.cityofnewyork.us/) collects information about NYC taxi trips and provides this data on [its website](https://data.cityofnewyork.us/Transportation/2014-Yellow-Taxi-Trip-Data/gn7m-em8n)."
   ]
  },
  {
   "cell_type": "markdown",
   "metadata": {},
   "source": [
    "![](./nyc-taxi.png)"
   ]
  },
  {
   "cell_type": "markdown",
   "metadata": {},
   "source": [
    "For your reading pleasure, the data has already been downloaded into the [trips.json](https://github.com/learn-co-curriculum/nearest-neighbors-lab/blob/master/trips.json) file in this lab which you can find here.  We'll use Python's `json` library to take the data from the `trips.json` file and store it as a variable in our notebook."
   ]
  },
  {
   "cell_type": "code",
   "execution_count": 2,
   "metadata": {},
   "outputs": [],
   "source": [
    "import json\n",
    "# First, read the file\n",
    "trips_file = open('trips.json')\n",
    "# Then, convert contents to list of dictionaries \n",
    "trips = json.load(trips_file)"
   ]
  },
  {
   "cell_type": "markdown",
   "metadata": {},
   "source": [
    "> Press shift + enter"
   ]
  },
  {
   "cell_type": "markdown",
   "metadata": {},
   "source": [
    "#### Explore the data"
   ]
  },
  {
   "cell_type": "markdown",
   "metadata": {},
   "source": [
    "The next step is to explore the data.  First, let's see how many trips we have."
   ]
  },
  {
   "cell_type": "code",
   "execution_count": 3,
   "metadata": {},
   "outputs": [
    {
     "data": {
      "text/plain": [
       "1000"
      ]
     },
     "execution_count": 3,
     "metadata": {},
     "output_type": "execute_result"
    }
   ],
   "source": [
    "len(trips)"
   ]
  },
  {
   "cell_type": "markdown",
   "metadata": {},
   "source": [
    "Not bad at all.  Now let's see what each individual trip looks like.  Each trip is a dictionary, so we can see the attributes of each trip with the `keys` function."
   ]
  },
  {
   "cell_type": "code",
   "execution_count": 4,
   "metadata": {
    "scrolled": true
   },
   "outputs": [
    {
     "data": {
      "text/plain": [
       "dict_keys(['dropoff_datetime', 'dropoff_latitude', 'dropoff_longitude', 'fare_amount', 'imp_surcharge', 'mta_tax', 'passenger_count', 'payment_type', 'pickup_datetime', 'pickup_latitude', 'pickup_longitude', 'rate_code', 'tip_amount', 'tolls_amount', 'total_amount', 'trip_distance', 'vendor_id'])"
      ]
     },
     "execution_count": 4,
     "metadata": {},
     "output_type": "execute_result"
    }
   ],
   "source": [
    "trips[0].keys()"
   ]
  },
  {
   "cell_type": "markdown",
   "metadata": {},
   "source": [
    "#### Limit our data"
   ]
  },
  {
   "cell_type": "markdown",
   "metadata": {},
   "source": [
    "Ok, now that we have explored some of our data, let's begin to think through what data is relevant for our task."
   ]
  },
  {
   "cell_type": "markdown",
   "metadata": {
    "collapsed": true
   },
   "source": [
    "Remember that our task is to **use the trip location to predict the length of a trip**.  So let's select the `pickup_latitude`, `pickup_longitude`, and `trip_distance` from each trip.  That will give us the trip location and related `trip_distance` for each trip.  Then based on these **actual** trip distances we can use nearest neighbors to predict an **expected** trip distance for a trip, provided an **actual** location."
   ]
  },
  {
   "cell_type": "markdown",
   "metadata": {},
   "source": [
    "** Add in about trip distance ** "
   ]
  },
  {
   "cell_type": "markdown",
   "metadata": {},
   "source": [
    "Write a function called `parse_trips(trips)` that returns a list of the trips with only the following attributes: \n",
    "* `trip_distance`\n",
    "* `pickup_latitude`\n",
    "* `pickup_longitude`"
   ]
  },
  {
   "cell_type": "code",
   "execution_count": 32,
   "metadata": {},
   "outputs": [],
   "source": [
    "def parse_trips(trips):\n",
    "    trips_list = [[{k: v for k, v in i.items() if k in ['pickup_latitude', 'pickup_longitude', 'trip_distance']}][0]\n",
    "                  for i in trips]\n",
    "    return trips_list"
   ]
  },
  {
   "cell_type": "code",
   "execution_count": 33,
   "metadata": {},
   "outputs": [
    {
     "data": {
      "text/plain": [
       "{'pickup_latitude': '40.64499',\n",
       " 'pickup_longitude': '-73.781149999999997',\n",
       " 'trip_distance': '18.379999999999999'}"
      ]
     },
     "execution_count": 33,
     "metadata": {},
     "output_type": "execute_result"
    }
   ],
   "source": [
    "parsed_trips = parse_trips(trips)\n",
    "parsed_trips and parsed_trips[0]\n",
    "\n",
    "# {'pickup_latitude': '40.64499',\n",
    "#  'pickup_longitude': '-73.78115',\n",
    "#  'trip_distance': '18.38'}\n"
   ]
  },
  {
   "cell_type": "markdown",
   "metadata": {},
   "source": [
    "Now, there's just one change to make.  If you look at one of the trips, all of the values are strings.  Let's change them to be floats."
   ]
  },
  {
   "cell_type": "code",
   "execution_count": 34,
   "metadata": {},
   "outputs": [],
   "source": [
    "def float_values(trips):\n",
    "    float_values = [[{k: float(v) for k, v in i.items()}][0] for i in trips]\n",
    "    return float_values"
   ]
  },
  {
   "cell_type": "code",
   "execution_count": 35,
   "metadata": {},
   "outputs": [],
   "source": [
    "cleaned_trips = float_values(parsed_trips)"
   ]
  },
  {
   "cell_type": "code",
   "execution_count": 36,
   "metadata": {},
   "outputs": [
    {
     "data": {
      "text/plain": [
       "{'pickup_latitude': 40.64499,\n",
       " 'pickup_longitude': -73.78115,\n",
       " 'trip_distance': 18.38}"
      ]
     },
     "execution_count": 36,
     "metadata": {},
     "output_type": "execute_result"
    }
   ],
   "source": [
    "cleaned_trips[0]\n",
    "\n",
    "# {'pickup_latitude': 40.64499,\n",
    "#  'pickup_longitude': -73.78115,\n",
    "#  'trip_distance': 18.38}"
   ]
  },
  {
   "cell_type": "markdown",
   "metadata": {},
   "source": [
    "### Exploring the Data"
   ]
  },
  {
   "cell_type": "markdown",
   "metadata": {},
   "source": [
    "Now that we have paired down our data, let's get a sense of our trip data.  We can use the `folium` Python library to plot a map of Manhattan, and our data.  First we must import `folium`, and then use the `Map` function to pass through a `location`, and `zoom_start`.  If a map isn't showing up below, copy and paste the command `pip install -r requirements.txt` into your terminal to install `folium` then try again."
   ]
  },
  {
   "cell_type": "code",
   "execution_count": 37,
   "metadata": {},
   "outputs": [],
   "source": [
    "import folium\n",
    "manhattan_map = folium.Map(location=[40.7589, -73.9851], zoom_start=11)"
   ]
  },
  {
   "cell_type": "code",
   "execution_count": 38,
   "metadata": {
    "scrolled": true
   },
   "outputs": [
    {
     "data": {
      "text/html": [
       "<div style=\"width:100%;\"><div style=\"position:relative;width:100%;height:0;padding-bottom:60%;\"><iframe src=\"data:text/html;charset=utf-8;base64,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\" style=\"position:absolute;width:100%;height:100%;left:0;top:0;border:none !important;\" allowfullscreen webkitallowfullscreen mozallowfullscreen></iframe></div></div>"
      ],
      "text/plain": [
       "<folium.folium.Map at 0x7f8999a24da0>"
      ]
     },
     "execution_count": 38,
     "metadata": {},
     "output_type": "execute_result"
    }
   ],
   "source": [
    "manhattan_map"
   ]
  },
  {
   "cell_type": "markdown",
   "metadata": {},
   "source": [
    "Ok, now let's see how we could add a dot to mark a specific location.  We'll start with Times Square."
   ]
  },
  {
   "cell_type": "code",
   "execution_count": 39,
   "metadata": {},
   "outputs": [
    {
     "data": {
      "text/plain": [
       "<folium.vector_layers.CircleMarker at 0x7f89999f9748>"
      ]
     },
     "execution_count": 39,
     "metadata": {},
     "output_type": "execute_result"
    }
   ],
   "source": [
    "marker = folium.CircleMarker(location = [40.7589, -73.9851], radius=10)\n",
    "marker.add_to(manhattan_map)"
   ]
  },
  {
   "cell_type": "markdown",
   "metadata": {},
   "source": [
    "Above, we first create a marker.  Then we add that circle marker to the `manhattan_map` we created earlier. "
   ]
  },
  {
   "cell_type": "code",
   "execution_count": 40,
   "metadata": {
    "scrolled": false
   },
   "outputs": [
    {
     "data": {
      "text/html": [
       "<div style=\"width:100%;\"><div style=\"position:relative;width:100%;height:0;padding-bottom:60%;\"><iframe src=\"data:text/html;charset=utf-8;base64,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\" style=\"position:absolute;width:100%;height:100%;left:0;top:0;border:none !important;\" allowfullscreen webkitallowfullscreen mozallowfullscreen></iframe></div></div>"
      ],
      "text/plain": [
       "<folium.folium.Map at 0x7f8999a24da0>"
      ]
     },
     "execution_count": 40,
     "metadata": {},
     "output_type": "execute_result"
    }
   ],
   "source": [
    "manhattan_map"
   ]
  },
  {
   "cell_type": "markdown",
   "metadata": {},
   "source": [
    "Do you see that blue dot near Time's Square?  That is our marker.  \n",
    "\n",
    "So now that we can plot one marker on a map, we should have a sense of how we can plot many markers on a map to display our taxi ride data.  We simply plot a map, and then we add a marker for each location of a taxi trip.\n",
    "\n",
    "Now let's write some functions to allow us to plot maps and add markers a little more easily.  "
   ]
  },
  {
   "cell_type": "markdown",
   "metadata": {},
   "source": [
    "#### Writing some map plotting functions"
   ]
  },
  {
   "cell_type": "markdown",
   "metadata": {},
   "source": [
    "As a first step towards this, note that the functions to create both a marker and map each take in a location as two element list, representing the latitude and longitude values.  Take another look:\n",
    "\n",
    "```python\n",
    "marker = folium.CircleMarker(location = [40.7589, -73.9851])\n",
    "manhattan_map = folium.Map(location=[40.7589, -73.9851])\n",
    "```\n",
    "\n",
    "So let's write a function called to create this two element list from a trip.  Write a function called `location` that  takes in a trip as an argument and returns a list where the first element is the latitude and the second is the longitude.  Remember that a location looks like the following:"
   ]
  },
  {
   "cell_type": "code",
   "execution_count": 41,
   "metadata": {},
   "outputs": [
    {
     "data": {
      "text/plain": [
       "{'pickup_latitude': 40.64499,\n",
       " 'pickup_longitude': -73.78115,\n",
       " 'trip_distance': 18.38}"
      ]
     },
     "execution_count": 41,
     "metadata": {},
     "output_type": "execute_result"
    }
   ],
   "source": [
    "first_trip = {'pickup_latitude': 40.64499, 'pickup_longitude': -73.78115,  'trip_distance': 18.38}\n",
    "first_trip"
   ]
  },
  {
   "cell_type": "code",
   "execution_count": 42,
   "metadata": {},
   "outputs": [],
   "source": [
    "def location(trip):\n",
    "    return [trip['pickup_latitude'], trip['pickup_longitude']]"
   ]
  },
  {
   "cell_type": "code",
   "execution_count": 43,
   "metadata": {},
   "outputs": [
    {
     "data": {
      "text/plain": [
       "[40.64499, -73.78115]"
      ]
     },
     "execution_count": 43,
     "metadata": {},
     "output_type": "execute_result"
    }
   ],
   "source": [
    "first_location = location(first_trip) # [40.64499, -73.78115]\n",
    "first_location # [40.64499, -73.78115]"
   ]
  },
  {
   "cell_type": "markdown",
   "metadata": {},
   "source": [
    "Ok, now that we can turn a trip into a location, let's turn a location into a marker.  Write a function called `to_marker` that takes in a location (in the form of a list) as an argument, and returns a folium `circleMarker` for that location.  The radius of the marker should always equal 6."
   ]
  },
  {
   "cell_type": "code",
   "execution_count": 44,
   "metadata": {},
   "outputs": [],
   "source": [
    "def to_marker(location):\n",
    "    marker = folium.CircleMarker(location, radius=6)\n",
    "    return marker"
   ]
  },
  {
   "cell_type": "code",
   "execution_count": 45,
   "metadata": {},
   "outputs": [
    {
     "ename": "TypeError",
     "evalue": "the JSON object must be str, bytes or bytearray, not 'dict'",
     "output_type": "error",
     "traceback": [
      "\u001b[0;31m\u001b[0m",
      "\u001b[0;31mTypeError\u001b[0mTraceback (most recent call last)",
      "\u001b[0;32m<ipython-input-45-aea535683066>\u001b[0m in \u001b[0;36m<module>\u001b[0;34m\u001b[0m\n\u001b[1;32m      3\u001b[0m \u001b[0;34m\u001b[0m\u001b[0m\n\u001b[1;32m      4\u001b[0m \u001b[0mtimes_square_marker\u001b[0m \u001b[0;32mand\u001b[0m \u001b[0mtimes_square_marker\u001b[0m\u001b[0;34m.\u001b[0m\u001b[0mlocation\u001b[0m \u001b[0;31m# [40.7589, -73.9851]\u001b[0m\u001b[0;34m\u001b[0m\u001b[0;34m\u001b[0m\u001b[0m\n\u001b[0;32m----> 5\u001b[0;31m \u001b[0mtimes_square_marker\u001b[0m \u001b[0;32mand\u001b[0m \u001b[0mjson\u001b[0m\u001b[0;34m.\u001b[0m\u001b[0mloads\u001b[0m\u001b[0;34m(\u001b[0m\u001b[0mtimes_square_marker\u001b[0m\u001b[0;34m.\u001b[0m\u001b[0moptions\u001b[0m\u001b[0;34m)\u001b[0m\u001b[0;34m[\u001b[0m\u001b[0;34m'radius'\u001b[0m\u001b[0;34m]\u001b[0m \u001b[0;31m# 6\u001b[0m\u001b[0;34m\u001b[0m\u001b[0;34m\u001b[0m\u001b[0m\n\u001b[0m",
      "\u001b[0;32m/opt/conda/envs/learn-env/lib/python3.6/json/__init__.py\u001b[0m in \u001b[0;36mloads\u001b[0;34m(s, encoding, cls, object_hook, parse_float, parse_int, parse_constant, object_pairs_hook, **kw)\u001b[0m\n\u001b[1;32m    346\u001b[0m         \u001b[0;32mif\u001b[0m \u001b[0;32mnot\u001b[0m \u001b[0misinstance\u001b[0m\u001b[0;34m(\u001b[0m\u001b[0ms\u001b[0m\u001b[0;34m,\u001b[0m \u001b[0;34m(\u001b[0m\u001b[0mbytes\u001b[0m\u001b[0;34m,\u001b[0m \u001b[0mbytearray\u001b[0m\u001b[0;34m)\u001b[0m\u001b[0;34m)\u001b[0m\u001b[0;34m:\u001b[0m\u001b[0;34m\u001b[0m\u001b[0;34m\u001b[0m\u001b[0m\n\u001b[1;32m    347\u001b[0m             raise TypeError('the JSON object must be str, bytes or bytearray, '\n\u001b[0;32m--> 348\u001b[0;31m                             'not {!r}'.format(s.__class__.__name__))\n\u001b[0m\u001b[1;32m    349\u001b[0m         \u001b[0ms\u001b[0m \u001b[0;34m=\u001b[0m \u001b[0ms\u001b[0m\u001b[0;34m.\u001b[0m\u001b[0mdecode\u001b[0m\u001b[0;34m(\u001b[0m\u001b[0mdetect_encoding\u001b[0m\u001b[0;34m(\u001b[0m\u001b[0ms\u001b[0m\u001b[0;34m)\u001b[0m\u001b[0;34m,\u001b[0m \u001b[0;34m'surrogatepass'\u001b[0m\u001b[0;34m)\u001b[0m\u001b[0;34m\u001b[0m\u001b[0;34m\u001b[0m\u001b[0m\n\u001b[1;32m    350\u001b[0m \u001b[0;34m\u001b[0m\u001b[0m\n",
      "\u001b[0;31mTypeError\u001b[0m: the JSON object must be str, bytes or bytearray, not 'dict'"
     ]
    }
   ],
   "source": [
    "import json\n",
    "times_square_marker = to_marker([40.7589, -73.9851])\n",
    "\n",
    "times_square_marker and times_square_marker.location # [40.7589, -73.9851]\n",
    "times_square_marker and json.loads(times_square_marker.options)['radius'] # 6"
   ]
  },
  {
   "cell_type": "markdown",
   "metadata": {},
   "source": [
    "Ok, now that we know how to produce a single marker, let's write a function to produce lots.  We can write a function called `markers_from_trips` that takes in a list of trips, and returns a marker object for each trip.  "
   ]
  },
  {
   "cell_type": "code",
   "execution_count": 71,
   "metadata": {},
   "outputs": [],
   "source": [
    "def markers_from_trips(trips):\n",
    "    markers = []\n",
    "    for i in trips:\n",
    "        location = [i['pickup_latitude'], i['pickup_longitude']]\n",
    "        marker = folium.CircleMarker(location, radius=6)\n",
    "        markers.append(marker)\n",
    "    return markers\n",
    "        "
   ]
  },
  {
   "cell_type": "code",
   "execution_count": 72,
   "metadata": {},
   "outputs": [],
   "source": [
    "trip_markers = markers_from_trips(cleaned_trips)"
   ]
  },
  {
   "cell_type": "code",
   "execution_count": 73,
   "metadata": {},
   "outputs": [
    {
     "data": {
      "text/plain": [
       "[{'pickup_latitude': 40.64499,\n",
       "  'pickup_longitude': -73.78115,\n",
       "  'trip_distance': 18.38},\n",
       " {'pickup_latitude': 40.766931,\n",
       "  'pickup_longitude': -73.982098,\n",
       "  'trip_distance': 1.3},\n",
       " {'pickup_latitude': 40.77773,\n",
       "  'pickup_longitude': -73.951902,\n",
       "  'trip_distance': 4.5},\n",
       " {'pickup_latitude': 40.795678,\n",
       "  'pickup_longitude': -73.971049,\n",
       "  'trip_distance': 2.4}]"
      ]
     },
     "execution_count": 73,
     "metadata": {},
     "output_type": "execute_result"
    }
   ],
   "source": [
    "cleaned_trips[0:4]\n"
   ]
  },
  {
   "cell_type": "code",
   "execution_count": 76,
   "metadata": {},
   "outputs": [
    {
     "data": {
      "text/plain": [
       "[<folium.vector_layers.CircleMarker at 0x7f899896c3c8>,\n",
       " <folium.vector_layers.CircleMarker at 0x7f899896c550>,\n",
       " <folium.vector_layers.CircleMarker at 0x7f89988f3f28>,\n",
       " <folium.vector_layers.CircleMarker at 0x7f8998902048>,\n",
       " <folium.vector_layers.CircleMarker at 0x7f89989021d0>,\n",
       " <folium.vector_layers.CircleMarker at 0x7f89989020b8>,\n",
       " <folium.vector_layers.CircleMarker at 0x7f8998902160>,\n",
       " <folium.vector_layers.CircleMarker at 0x7f8998902748>,\n",
       " <folium.vector_layers.CircleMarker at 0x7f8998902128>,\n",
       " <folium.vector_layers.CircleMarker at 0x7f89989022e8>,\n",
       " <folium.vector_layers.CircleMarker at 0x7f8998902320>,\n",
       " <folium.vector_layers.CircleMarker at 0x7f89989020f0>,\n",
       " <folium.vector_layers.CircleMarker at 0x7f89989027f0>,\n",
       " <folium.vector_layers.CircleMarker at 0x7f8998902208>,\n",
       " <folium.vector_layers.CircleMarker at 0x7f8998902358>,\n",
       " <folium.vector_layers.CircleMarker at 0x7f8998902390>,\n",
       " <folium.vector_layers.CircleMarker at 0x7f89989027b8>,\n",
       " <folium.vector_layers.CircleMarker at 0x7f89989026a0>,\n",
       " <folium.vector_layers.CircleMarker at 0x7f8998902588>,\n",
       " <folium.vector_layers.CircleMarker at 0x7f8998902710>,\n",
       " <folium.vector_layers.CircleMarker at 0x7f8998902780>,\n",
       " <folium.vector_layers.CircleMarker at 0x7f8998902630>,\n",
       " <folium.vector_layers.CircleMarker at 0x7f89989026d8>,\n",
       " <folium.vector_layers.CircleMarker at 0x7f89989025f8>,\n",
       " <folium.vector_layers.CircleMarker at 0x7f8998902668>,\n",
       " <folium.vector_layers.CircleMarker at 0x7f89989025c0>,\n",
       " <folium.vector_layers.CircleMarker at 0x7f8998902518>,\n",
       " <folium.vector_layers.CircleMarker at 0x7f89989024e0>,\n",
       " <folium.vector_layers.CircleMarker at 0x7f89989023c8>,\n",
       " <folium.vector_layers.CircleMarker at 0x7f8998902550>,\n",
       " <folium.vector_layers.CircleMarker at 0x7f89989024a8>,\n",
       " <folium.vector_layers.CircleMarker at 0x7f8998902438>,\n",
       " <folium.vector_layers.CircleMarker at 0x7f8998902860>,\n",
       " <folium.vector_layers.CircleMarker at 0x7f8998902898>,\n",
       " <folium.vector_layers.CircleMarker at 0x7f89989028d0>,\n",
       " <folium.vector_layers.CircleMarker at 0x7f8998902908>,\n",
       " <folium.vector_layers.CircleMarker at 0x7f8998902940>,\n",
       " <folium.vector_layers.CircleMarker at 0x7f8998902978>,\n",
       " <folium.vector_layers.CircleMarker at 0x7f89989029b0>,\n",
       " <folium.vector_layers.CircleMarker at 0x7f89989029e8>,\n",
       " <folium.vector_layers.CircleMarker at 0x7f8998902a20>,\n",
       " <folium.vector_layers.CircleMarker at 0x7f8998902a58>,\n",
       " <folium.vector_layers.CircleMarker at 0x7f8998902a90>,\n",
       " <folium.vector_layers.CircleMarker at 0x7f8998902ac8>,\n",
       " <folium.vector_layers.CircleMarker at 0x7f8998902b00>,\n",
       " <folium.vector_layers.CircleMarker at 0x7f8998902b38>,\n",
       " <folium.vector_layers.CircleMarker at 0x7f8998902b70>,\n",
       " <folium.vector_layers.CircleMarker at 0x7f8998902ba8>,\n",
       " <folium.vector_layers.CircleMarker at 0x7f8998902be0>,\n",
       " <folium.vector_layers.CircleMarker at 0x7f8998902c18>,\n",
       " <folium.vector_layers.CircleMarker at 0x7f8998902c50>,\n",
       " <folium.vector_layers.CircleMarker at 0x7f8998902c88>,\n",
       " <folium.vector_layers.CircleMarker at 0x7f8998902cc0>,\n",
       " <folium.vector_layers.CircleMarker at 0x7f8998902cf8>,\n",
       " <folium.vector_layers.CircleMarker at 0x7f8998902d30>,\n",
       " <folium.vector_layers.CircleMarker at 0x7f8998902d68>,\n",
       " <folium.vector_layers.CircleMarker at 0x7f8998902da0>,\n",
       " <folium.vector_layers.CircleMarker at 0x7f8998902dd8>,\n",
       " <folium.vector_layers.CircleMarker at 0x7f8998902e10>,\n",
       " <folium.vector_layers.CircleMarker at 0x7f8998902e48>,\n",
       " <folium.vector_layers.CircleMarker at 0x7f8998902e80>,\n",
       " <folium.vector_layers.CircleMarker at 0x7f8998902eb8>,\n",
       " <folium.vector_layers.CircleMarker at 0x7f8998902ef0>,\n",
       " <folium.vector_layers.CircleMarker at 0x7f8998902f28>,\n",
       " <folium.vector_layers.CircleMarker at 0x7f8998902f60>,\n",
       " <folium.vector_layers.CircleMarker at 0x7f8998902f98>,\n",
       " <folium.vector_layers.CircleMarker at 0x7f8998902fd0>,\n",
       " <folium.vector_layers.CircleMarker at 0x7f8998902080>,\n",
       " <folium.vector_layers.CircleMarker at 0x7f8998911080>,\n",
       " <folium.vector_layers.CircleMarker at 0x7f89989110b8>,\n",
       " <folium.vector_layers.CircleMarker at 0x7f89989110f0>,\n",
       " <folium.vector_layers.CircleMarker at 0x7f8998911128>,\n",
       " <folium.vector_layers.CircleMarker at 0x7f8998911160>,\n",
       " <folium.vector_layers.CircleMarker at 0x7f8998911198>,\n",
       " <folium.vector_layers.CircleMarker at 0x7f89989111d0>,\n",
       " <folium.vector_layers.CircleMarker at 0x7f8998911208>,\n",
       " <folium.vector_layers.CircleMarker at 0x7f8998911240>,\n",
       " <folium.vector_layers.CircleMarker at 0x7f8998911278>,\n",
       " <folium.vector_layers.CircleMarker at 0x7f89989112b0>,\n",
       " <folium.vector_layers.CircleMarker at 0x7f89989112e8>,\n",
       " <folium.vector_layers.CircleMarker at 0x7f8998911320>,\n",
       " <folium.vector_layers.CircleMarker at 0x7f8998911358>,\n",
       " <folium.vector_layers.CircleMarker at 0x7f8998911390>,\n",
       " <folium.vector_layers.CircleMarker at 0x7f89989113c8>,\n",
       " <folium.vector_layers.CircleMarker at 0x7f8998911400>,\n",
       " <folium.vector_layers.CircleMarker at 0x7f8998911438>,\n",
       " <folium.vector_layers.CircleMarker at 0x7f8998911470>,\n",
       " <folium.vector_layers.CircleMarker at 0x7f89989114a8>,\n",
       " <folium.vector_layers.CircleMarker at 0x7f89989114e0>,\n",
       " <folium.vector_layers.CircleMarker at 0x7f8998911518>,\n",
       " <folium.vector_layers.CircleMarker at 0x7f8998911550>,\n",
       " <folium.vector_layers.CircleMarker at 0x7f8998911588>,\n",
       " <folium.vector_layers.CircleMarker at 0x7f89989115c0>,\n",
       " <folium.vector_layers.CircleMarker at 0x7f89989115f8>,\n",
       " <folium.vector_layers.CircleMarker at 0x7f8998911630>,\n",
       " <folium.vector_layers.CircleMarker at 0x7f8998911668>,\n",
       " <folium.vector_layers.CircleMarker at 0x7f89989116a0>,\n",
       " <folium.vector_layers.CircleMarker at 0x7f89989116d8>,\n",
       " <folium.vector_layers.CircleMarker at 0x7f8998911710>,\n",
       " <folium.vector_layers.CircleMarker at 0x7f8998902198>,\n",
       " <folium.vector_layers.CircleMarker at 0x7f89989022b0>,\n",
       " <folium.vector_layers.CircleMarker at 0x7f8998911748>,\n",
       " <folium.vector_layers.CircleMarker at 0x7f8998911780>,\n",
       " <folium.vector_layers.CircleMarker at 0x7f89989117b8>,\n",
       " <folium.vector_layers.CircleMarker at 0x7f89989117f0>,\n",
       " <folium.vector_layers.CircleMarker at 0x7f8998911828>,\n",
       " <folium.vector_layers.CircleMarker at 0x7f8998911860>,\n",
       " <folium.vector_layers.CircleMarker at 0x7f8998911898>,\n",
       " <folium.vector_layers.CircleMarker at 0x7f89989118d0>,\n",
       " <folium.vector_layers.CircleMarker at 0x7f8998911908>,\n",
       " <folium.vector_layers.CircleMarker at 0x7f8998911940>,\n",
       " <folium.vector_layers.CircleMarker at 0x7f8998911978>,\n",
       " <folium.vector_layers.CircleMarker at 0x7f89989119b0>,\n",
       " <folium.vector_layers.CircleMarker at 0x7f89989119e8>,\n",
       " <folium.vector_layers.CircleMarker at 0x7f8998911a20>,\n",
       " <folium.vector_layers.CircleMarker at 0x7f8998911a58>,\n",
       " <folium.vector_layers.CircleMarker at 0x7f8998911a90>,\n",
       " <folium.vector_layers.CircleMarker at 0x7f8998911ac8>,\n",
       " <folium.vector_layers.CircleMarker at 0x7f8998911b00>,\n",
       " <folium.vector_layers.CircleMarker at 0x7f8998911b38>,\n",
       " <folium.vector_layers.CircleMarker at 0x7f8998911b70>,\n",
       " <folium.vector_layers.CircleMarker at 0x7f8998911ba8>,\n",
       " <folium.vector_layers.CircleMarker at 0x7f8998911be0>,\n",
       " <folium.vector_layers.CircleMarker at 0x7f8998911c18>,\n",
       " <folium.vector_layers.CircleMarker at 0x7f8998911c50>,\n",
       " <folium.vector_layers.CircleMarker at 0x7f8998911c88>,\n",
       " <folium.vector_layers.CircleMarker at 0x7f8998911cc0>,\n",
       " <folium.vector_layers.CircleMarker at 0x7f8998911cf8>,\n",
       " <folium.vector_layers.CircleMarker at 0x7f8998911d30>,\n",
       " <folium.vector_layers.CircleMarker at 0x7f8998911d68>,\n",
       " <folium.vector_layers.CircleMarker at 0x7f8998911da0>,\n",
       " <folium.vector_layers.CircleMarker at 0x7f8998911dd8>,\n",
       " <folium.vector_layers.CircleMarker at 0x7f8998911e10>,\n",
       " <folium.vector_layers.CircleMarker at 0x7f8998911e48>,\n",
       " <folium.vector_layers.CircleMarker at 0x7f8998911e80>,\n",
       " <folium.vector_layers.CircleMarker at 0x7f8998911eb8>,\n",
       " <folium.vector_layers.CircleMarker at 0x7f8998911ef0>,\n",
       " <folium.vector_layers.CircleMarker at 0x7f8998911f28>,\n",
       " <folium.vector_layers.CircleMarker at 0x7f8998911f60>,\n",
       " <folium.vector_layers.CircleMarker at 0x7f8998911f98>,\n",
       " <folium.vector_layers.CircleMarker at 0x7f8998911fd0>,\n",
       " <folium.vector_layers.CircleMarker at 0x7f8998911048>,\n",
       " <folium.vector_layers.CircleMarker at 0x7f899889d080>,\n",
       " <folium.vector_layers.CircleMarker at 0x7f899889d0b8>,\n",
       " <folium.vector_layers.CircleMarker at 0x7f899889d0f0>,\n",
       " <folium.vector_layers.CircleMarker at 0x7f899889d128>,\n",
       " <folium.vector_layers.CircleMarker at 0x7f899889d160>,\n",
       " <folium.vector_layers.CircleMarker at 0x7f899889d198>,\n",
       " <folium.vector_layers.CircleMarker at 0x7f899889d1d0>,\n",
       " <folium.vector_layers.CircleMarker at 0x7f899889d208>,\n",
       " <folium.vector_layers.CircleMarker at 0x7f899889d240>,\n",
       " <folium.vector_layers.CircleMarker at 0x7f899889d278>,\n",
       " <folium.vector_layers.CircleMarker at 0x7f899889d2b0>,\n",
       " <folium.vector_layers.CircleMarker at 0x7f899889d2e8>,\n",
       " <folium.vector_layers.CircleMarker at 0x7f899889d320>,\n",
       " <folium.vector_layers.CircleMarker at 0x7f899889d358>,\n",
       " <folium.vector_layers.CircleMarker at 0x7f899889d390>,\n",
       " <folium.vector_layers.CircleMarker at 0x7f899889d3c8>,\n",
       " <folium.vector_layers.CircleMarker at 0x7f899889d400>,\n",
       " <folium.vector_layers.CircleMarker at 0x7f899889d438>,\n",
       " <folium.vector_layers.CircleMarker at 0x7f899889d470>,\n",
       " <folium.vector_layers.CircleMarker at 0x7f899889d4a8>,\n",
       " <folium.vector_layers.CircleMarker at 0x7f899889d4e0>,\n",
       " <folium.vector_layers.CircleMarker at 0x7f899889d518>,\n",
       " <folium.vector_layers.CircleMarker at 0x7f899889d550>,\n",
       " <folium.vector_layers.CircleMarker at 0x7f899889d588>,\n",
       " <folium.vector_layers.CircleMarker at 0x7f899889d5c0>,\n",
       " <folium.vector_layers.CircleMarker at 0x7f899889d5f8>,\n",
       " <folium.vector_layers.CircleMarker at 0x7f899889d630>,\n",
       " <folium.vector_layers.CircleMarker at 0x7f899889d668>,\n",
       " <folium.vector_layers.CircleMarker at 0x7f899889d6a0>,\n",
       " <folium.vector_layers.CircleMarker at 0x7f899889d6d8>,\n",
       " <folium.vector_layers.CircleMarker at 0x7f899889d710>,\n",
       " <folium.vector_layers.CircleMarker at 0x7f899889d748>,\n",
       " <folium.vector_layers.CircleMarker at 0x7f899889d780>,\n",
       " <folium.vector_layers.CircleMarker at 0x7f899889d7b8>,\n",
       " <folium.vector_layers.CircleMarker at 0x7f899889d7f0>,\n",
       " <folium.vector_layers.CircleMarker at 0x7f899889d828>,\n",
       " <folium.vector_layers.CircleMarker at 0x7f899889d860>,\n",
       " <folium.vector_layers.CircleMarker at 0x7f899889d898>,\n",
       " <folium.vector_layers.CircleMarker at 0x7f899889d8d0>,\n",
       " <folium.vector_layers.CircleMarker at 0x7f899889d908>,\n",
       " <folium.vector_layers.CircleMarker at 0x7f899889d940>,\n",
       " <folium.vector_layers.CircleMarker at 0x7f899889d978>,\n",
       " <folium.vector_layers.CircleMarker at 0x7f899889d9b0>,\n",
       " <folium.vector_layers.CircleMarker at 0x7f899889d9e8>,\n",
       " <folium.vector_layers.CircleMarker at 0x7f899889da20>,\n",
       " <folium.vector_layers.CircleMarker at 0x7f899889da58>,\n",
       " <folium.vector_layers.CircleMarker at 0x7f899889da90>,\n",
       " <folium.vector_layers.CircleMarker at 0x7f899889dac8>,\n",
       " <folium.vector_layers.CircleMarker at 0x7f899889db00>,\n",
       " <folium.vector_layers.CircleMarker at 0x7f899889db38>,\n",
       " <folium.vector_layers.CircleMarker at 0x7f899889db70>,\n",
       " <folium.vector_layers.CircleMarker at 0x7f899889dba8>,\n",
       " <folium.vector_layers.CircleMarker at 0x7f899889dbe0>,\n",
       " <folium.vector_layers.CircleMarker at 0x7f899889dc18>,\n",
       " <folium.vector_layers.CircleMarker at 0x7f899889dc50>,\n",
       " <folium.vector_layers.CircleMarker at 0x7f899889dc88>,\n",
       " <folium.vector_layers.CircleMarker at 0x7f899889dcc0>,\n",
       " <folium.vector_layers.CircleMarker at 0x7f899889dcf8>,\n",
       " <folium.vector_layers.CircleMarker at 0x7f899889dd30>,\n",
       " <folium.vector_layers.CircleMarker at 0x7f899889dd68>,\n",
       " <folium.vector_layers.CircleMarker at 0x7f899889dda0>,\n",
       " <folium.vector_layers.CircleMarker at 0x7f899889ddd8>,\n",
       " <folium.vector_layers.CircleMarker at 0x7f899889de10>,\n",
       " <folium.vector_layers.CircleMarker at 0x7f899889de48>,\n",
       " <folium.vector_layers.CircleMarker at 0x7f899889de80>,\n",
       " <folium.vector_layers.CircleMarker at 0x7f899889deb8>,\n",
       " <folium.vector_layers.CircleMarker at 0x7f899889def0>,\n",
       " <folium.vector_layers.CircleMarker at 0x7f899889df28>,\n",
       " <folium.vector_layers.CircleMarker at 0x7f899889df60>,\n",
       " <folium.vector_layers.CircleMarker at 0x7f899889df98>,\n",
       " <folium.vector_layers.CircleMarker at 0x7f899889dfd0>,\n",
       " <folium.vector_layers.CircleMarker at 0x7f899889d048>,\n",
       " <folium.vector_layers.CircleMarker at 0x7f89988ac080>,\n",
       " <folium.vector_layers.CircleMarker at 0x7f89988ac0b8>,\n",
       " <folium.vector_layers.CircleMarker at 0x7f89988ac0f0>,\n",
       " <folium.vector_layers.CircleMarker at 0x7f89988ac128>,\n",
       " <folium.vector_layers.CircleMarker at 0x7f89988ac160>,\n",
       " <folium.vector_layers.CircleMarker at 0x7f89988ac198>,\n",
       " <folium.vector_layers.CircleMarker at 0x7f89988ac1d0>,\n",
       " <folium.vector_layers.CircleMarker at 0x7f89988ac208>,\n",
       " <folium.vector_layers.CircleMarker at 0x7f89988ac240>,\n",
       " <folium.vector_layers.CircleMarker at 0x7f89988ac278>,\n",
       " <folium.vector_layers.CircleMarker at 0x7f89988ac2b0>,\n",
       " <folium.vector_layers.CircleMarker at 0x7f89988ac2e8>,\n",
       " <folium.vector_layers.CircleMarker at 0x7f89988ac320>,\n",
       " <folium.vector_layers.CircleMarker at 0x7f89988ac358>,\n",
       " <folium.vector_layers.CircleMarker at 0x7f89988ac390>,\n",
       " <folium.vector_layers.CircleMarker at 0x7f89988ac3c8>,\n",
       " <folium.vector_layers.CircleMarker at 0x7f89988ac400>,\n",
       " <folium.vector_layers.CircleMarker at 0x7f89988ac438>,\n",
       " <folium.vector_layers.CircleMarker at 0x7f89988ac470>,\n",
       " <folium.vector_layers.CircleMarker at 0x7f89988ac4a8>,\n",
       " <folium.vector_layers.CircleMarker at 0x7f89988ac4e0>,\n",
       " <folium.vector_layers.CircleMarker at 0x7f89988ac518>,\n",
       " <folium.vector_layers.CircleMarker at 0x7f89988ac550>,\n",
       " <folium.vector_layers.CircleMarker at 0x7f89988ac588>,\n",
       " <folium.vector_layers.CircleMarker at 0x7f89988ac5c0>,\n",
       " <folium.vector_layers.CircleMarker at 0x7f89988ac5f8>,\n",
       " <folium.vector_layers.CircleMarker at 0x7f89988ac630>,\n",
       " <folium.vector_layers.CircleMarker at 0x7f89988ac668>,\n",
       " <folium.vector_layers.CircleMarker at 0x7f89988ac6a0>,\n",
       " <folium.vector_layers.CircleMarker at 0x7f89988ac6d8>,\n",
       " <folium.vector_layers.CircleMarker at 0x7f89988ac710>,\n",
       " <folium.vector_layers.CircleMarker at 0x7f89988ac748>,\n",
       " <folium.vector_layers.CircleMarker at 0x7f89988ac780>,\n",
       " <folium.vector_layers.CircleMarker at 0x7f89988ac7b8>,\n",
       " <folium.vector_layers.CircleMarker at 0x7f89988ac7f0>,\n",
       " <folium.vector_layers.CircleMarker at 0x7f89988ac828>,\n",
       " <folium.vector_layers.CircleMarker at 0x7f89988ac860>,\n",
       " <folium.vector_layers.CircleMarker at 0x7f89988ac898>,\n",
       " <folium.vector_layers.CircleMarker at 0x7f89988ac8d0>,\n",
       " <folium.vector_layers.CircleMarker at 0x7f89988ac908>,\n",
       " <folium.vector_layers.CircleMarker at 0x7f89988ac940>,\n",
       " <folium.vector_layers.CircleMarker at 0x7f89988ac978>,\n",
       " <folium.vector_layers.CircleMarker at 0x7f89988ac9b0>,\n",
       " <folium.vector_layers.CircleMarker at 0x7f89988ac9e8>,\n",
       " <folium.vector_layers.CircleMarker at 0x7f89988aca20>,\n",
       " <folium.vector_layers.CircleMarker at 0x7f89988aca58>,\n",
       " <folium.vector_layers.CircleMarker at 0x7f89988aca90>,\n",
       " <folium.vector_layers.CircleMarker at 0x7f89988acac8>,\n",
       " <folium.vector_layers.CircleMarker at 0x7f89988acb00>,\n",
       " <folium.vector_layers.CircleMarker at 0x7f89988acb38>,\n",
       " <folium.vector_layers.CircleMarker at 0x7f89988acb70>,\n",
       " <folium.vector_layers.CircleMarker at 0x7f89988acba8>,\n",
       " <folium.vector_layers.CircleMarker at 0x7f89988acbe0>,\n",
       " <folium.vector_layers.CircleMarker at 0x7f89988acc18>,\n",
       " <folium.vector_layers.CircleMarker at 0x7f89988acc50>,\n",
       " <folium.vector_layers.CircleMarker at 0x7f89988acc88>,\n",
       " <folium.vector_layers.CircleMarker at 0x7f89988accc0>,\n",
       " <folium.vector_layers.CircleMarker at 0x7f89988accf8>,\n",
       " <folium.vector_layers.CircleMarker at 0x7f89988acd30>,\n",
       " <folium.vector_layers.CircleMarker at 0x7f89988acd68>,\n",
       " <folium.vector_layers.CircleMarker at 0x7f89988acda0>,\n",
       " <folium.vector_layers.CircleMarker at 0x7f89988acdd8>,\n",
       " <folium.vector_layers.CircleMarker at 0x7f89988ace10>,\n",
       " <folium.vector_layers.CircleMarker at 0x7f89988ace48>,\n",
       " <folium.vector_layers.CircleMarker at 0x7f89988ace80>,\n",
       " <folium.vector_layers.CircleMarker at 0x7f89988aceb8>,\n",
       " <folium.vector_layers.CircleMarker at 0x7f89988acef0>,\n",
       " <folium.vector_layers.CircleMarker at 0x7f89988acf28>,\n",
       " <folium.vector_layers.CircleMarker at 0x7f89988acf60>,\n",
       " <folium.vector_layers.CircleMarker at 0x7f89988acf98>,\n",
       " <folium.vector_layers.CircleMarker at 0x7f89988acfd0>,\n",
       " <folium.vector_layers.CircleMarker at 0x7f89988ac048>,\n",
       " <folium.vector_layers.CircleMarker at 0x7f89988b8080>,\n",
       " <folium.vector_layers.CircleMarker at 0x7f89988b80b8>,\n",
       " <folium.vector_layers.CircleMarker at 0x7f89988b80f0>,\n",
       " <folium.vector_layers.CircleMarker at 0x7f89988b8128>,\n",
       " <folium.vector_layers.CircleMarker at 0x7f89988b8160>,\n",
       " <folium.vector_layers.CircleMarker at 0x7f89988b8198>,\n",
       " <folium.vector_layers.CircleMarker at 0x7f89988b81d0>,\n",
       " <folium.vector_layers.CircleMarker at 0x7f89988b8208>,\n",
       " <folium.vector_layers.CircleMarker at 0x7f89988b8240>,\n",
       " <folium.vector_layers.CircleMarker at 0x7f89988b8278>,\n",
       " <folium.vector_layers.CircleMarker at 0x7f89988b82b0>,\n",
       " <folium.vector_layers.CircleMarker at 0x7f89988b82e8>,\n",
       " <folium.vector_layers.CircleMarker at 0x7f89988b8320>,\n",
       " <folium.vector_layers.CircleMarker at 0x7f89988b8358>,\n",
       " <folium.vector_layers.CircleMarker at 0x7f89988b8390>,\n",
       " <folium.vector_layers.CircleMarker at 0x7f89988b83c8>,\n",
       " <folium.vector_layers.CircleMarker at 0x7f89988b8400>,\n",
       " <folium.vector_layers.CircleMarker at 0x7f89988b8438>,\n",
       " <folium.vector_layers.CircleMarker at 0x7f89988b8470>,\n",
       " <folium.vector_layers.CircleMarker at 0x7f89988b84a8>,\n",
       " <folium.vector_layers.CircleMarker at 0x7f89988b84e0>,\n",
       " <folium.vector_layers.CircleMarker at 0x7f89988b8518>,\n",
       " <folium.vector_layers.CircleMarker at 0x7f89988b8550>,\n",
       " <folium.vector_layers.CircleMarker at 0x7f89988b8588>,\n",
       " <folium.vector_layers.CircleMarker at 0x7f89988b85c0>,\n",
       " <folium.vector_layers.CircleMarker at 0x7f89988b85f8>,\n",
       " <folium.vector_layers.CircleMarker at 0x7f89988b8630>,\n",
       " <folium.vector_layers.CircleMarker at 0x7f89988b8668>,\n",
       " <folium.vector_layers.CircleMarker at 0x7f89988b86a0>,\n",
       " <folium.vector_layers.CircleMarker at 0x7f89988b86d8>,\n",
       " <folium.vector_layers.CircleMarker at 0x7f89988b8710>,\n",
       " <folium.vector_layers.CircleMarker at 0x7f89988b8748>,\n",
       " <folium.vector_layers.CircleMarker at 0x7f89988b8780>,\n",
       " <folium.vector_layers.CircleMarker at 0x7f89988b87b8>,\n",
       " <folium.vector_layers.CircleMarker at 0x7f89988b87f0>,\n",
       " <folium.vector_layers.CircleMarker at 0x7f89988b8828>,\n",
       " <folium.vector_layers.CircleMarker at 0x7f89988b8860>,\n",
       " <folium.vector_layers.CircleMarker at 0x7f89988b8898>,\n",
       " <folium.vector_layers.CircleMarker at 0x7f89988b88d0>,\n",
       " <folium.vector_layers.CircleMarker at 0x7f89988b8908>,\n",
       " <folium.vector_layers.CircleMarker at 0x7f89988b8940>,\n",
       " <folium.vector_layers.CircleMarker at 0x7f89988b8978>,\n",
       " <folium.vector_layers.CircleMarker at 0x7f89988b89b0>,\n",
       " <folium.vector_layers.CircleMarker at 0x7f89988b89e8>,\n",
       " <folium.vector_layers.CircleMarker at 0x7f89988b8a20>,\n",
       " <folium.vector_layers.CircleMarker at 0x7f89988b8a58>,\n",
       " <folium.vector_layers.CircleMarker at 0x7f89988b8a90>,\n",
       " <folium.vector_layers.CircleMarker at 0x7f89988b8ac8>,\n",
       " <folium.vector_layers.CircleMarker at 0x7f89988b8b00>,\n",
       " <folium.vector_layers.CircleMarker at 0x7f89988b8b38>,\n",
       " <folium.vector_layers.CircleMarker at 0x7f89988b8b70>,\n",
       " <folium.vector_layers.CircleMarker at 0x7f89988b8ba8>,\n",
       " <folium.vector_layers.CircleMarker at 0x7f89988b8be0>,\n",
       " <folium.vector_layers.CircleMarker at 0x7f89988b8c18>,\n",
       " <folium.vector_layers.CircleMarker at 0x7f89988b8c50>,\n",
       " <folium.vector_layers.CircleMarker at 0x7f89988b8c88>,\n",
       " <folium.vector_layers.CircleMarker at 0x7f89988b8cc0>,\n",
       " <folium.vector_layers.CircleMarker at 0x7f89988b8cf8>,\n",
       " <folium.vector_layers.CircleMarker at 0x7f89988b8d30>,\n",
       " <folium.vector_layers.CircleMarker at 0x7f89988b8d68>,\n",
       " <folium.vector_layers.CircleMarker at 0x7f89988b8da0>,\n",
       " <folium.vector_layers.CircleMarker at 0x7f89988b8dd8>,\n",
       " <folium.vector_layers.CircleMarker at 0x7f89988b8e10>,\n",
       " <folium.vector_layers.CircleMarker at 0x7f89988b8e48>,\n",
       " <folium.vector_layers.CircleMarker at 0x7f89988b8e80>,\n",
       " <folium.vector_layers.CircleMarker at 0x7f89988b8eb8>,\n",
       " <folium.vector_layers.CircleMarker at 0x7f89988b8ef0>,\n",
       " <folium.vector_layers.CircleMarker at 0x7f89988b8f28>,\n",
       " <folium.vector_layers.CircleMarker at 0x7f89988b8f60>,\n",
       " <folium.vector_layers.CircleMarker at 0x7f89988b8f98>,\n",
       " <folium.vector_layers.CircleMarker at 0x7f89988b8fd0>,\n",
       " <folium.vector_layers.CircleMarker at 0x7f89988b8048>,\n",
       " <folium.vector_layers.CircleMarker at 0x7f89988c7080>,\n",
       " <folium.vector_layers.CircleMarker at 0x7f89988c70b8>,\n",
       " <folium.vector_layers.CircleMarker at 0x7f89988c70f0>,\n",
       " <folium.vector_layers.CircleMarker at 0x7f89988c7128>,\n",
       " <folium.vector_layers.CircleMarker at 0x7f89988c7160>,\n",
       " <folium.vector_layers.CircleMarker at 0x7f89988c7198>,\n",
       " <folium.vector_layers.CircleMarker at 0x7f89988c71d0>,\n",
       " <folium.vector_layers.CircleMarker at 0x7f89988c7208>,\n",
       " <folium.vector_layers.CircleMarker at 0x7f89988c7240>,\n",
       " <folium.vector_layers.CircleMarker at 0x7f89988c7278>,\n",
       " <folium.vector_layers.CircleMarker at 0x7f89988c72b0>,\n",
       " <folium.vector_layers.CircleMarker at 0x7f89988c72e8>,\n",
       " <folium.vector_layers.CircleMarker at 0x7f89988c7320>,\n",
       " <folium.vector_layers.CircleMarker at 0x7f89988c7358>,\n",
       " <folium.vector_layers.CircleMarker at 0x7f89988c7390>,\n",
       " <folium.vector_layers.CircleMarker at 0x7f89988c73c8>,\n",
       " <folium.vector_layers.CircleMarker at 0x7f89988c7400>,\n",
       " <folium.vector_layers.CircleMarker at 0x7f89988c7438>,\n",
       " <folium.vector_layers.CircleMarker at 0x7f89988c7470>,\n",
       " <folium.vector_layers.CircleMarker at 0x7f89988c74a8>,\n",
       " <folium.vector_layers.CircleMarker at 0x7f89988c74e0>,\n",
       " <folium.vector_layers.CircleMarker at 0x7f89988c7518>,\n",
       " <folium.vector_layers.CircleMarker at 0x7f89988c7550>,\n",
       " <folium.vector_layers.CircleMarker at 0x7f89988c7588>,\n",
       " <folium.vector_layers.CircleMarker at 0x7f89988c75c0>,\n",
       " <folium.vector_layers.CircleMarker at 0x7f89988c75f8>,\n",
       " <folium.vector_layers.CircleMarker at 0x7f89988c7630>,\n",
       " <folium.vector_layers.CircleMarker at 0x7f89988c7668>,\n",
       " <folium.vector_layers.CircleMarker at 0x7f89988c76a0>,\n",
       " <folium.vector_layers.CircleMarker at 0x7f89988c76d8>,\n",
       " <folium.vector_layers.CircleMarker at 0x7f89988c7710>,\n",
       " <folium.vector_layers.CircleMarker at 0x7f89988c7748>,\n",
       " <folium.vector_layers.CircleMarker at 0x7f89988c7780>,\n",
       " <folium.vector_layers.CircleMarker at 0x7f89988c77b8>,\n",
       " <folium.vector_layers.CircleMarker at 0x7f89988c77f0>,\n",
       " <folium.vector_layers.CircleMarker at 0x7f89988c7828>,\n",
       " <folium.vector_layers.CircleMarker at 0x7f89988c7860>,\n",
       " <folium.vector_layers.CircleMarker at 0x7f89988c7898>,\n",
       " <folium.vector_layers.CircleMarker at 0x7f89988c78d0>,\n",
       " <folium.vector_layers.CircleMarker at 0x7f89988c7908>,\n",
       " <folium.vector_layers.CircleMarker at 0x7f89988c7940>,\n",
       " <folium.vector_layers.CircleMarker at 0x7f89988c7978>,\n",
       " <folium.vector_layers.CircleMarker at 0x7f89988c79b0>,\n",
       " <folium.vector_layers.CircleMarker at 0x7f89988c79e8>,\n",
       " <folium.vector_layers.CircleMarker at 0x7f89988c7a20>,\n",
       " <folium.vector_layers.CircleMarker at 0x7f89988c7a58>,\n",
       " <folium.vector_layers.CircleMarker at 0x7f89988c7a90>,\n",
       " <folium.vector_layers.CircleMarker at 0x7f89988c7ac8>,\n",
       " <folium.vector_layers.CircleMarker at 0x7f89988c7b00>,\n",
       " <folium.vector_layers.CircleMarker at 0x7f89988c7b38>,\n",
       " <folium.vector_layers.CircleMarker at 0x7f89988c7b70>,\n",
       " <folium.vector_layers.CircleMarker at 0x7f89988c7ba8>,\n",
       " <folium.vector_layers.CircleMarker at 0x7f89988c7be0>,\n",
       " <folium.vector_layers.CircleMarker at 0x7f89988c7c18>,\n",
       " <folium.vector_layers.CircleMarker at 0x7f89988c7c50>,\n",
       " <folium.vector_layers.CircleMarker at 0x7f89988c7c88>,\n",
       " <folium.vector_layers.CircleMarker at 0x7f89988c7cc0>,\n",
       " <folium.vector_layers.CircleMarker at 0x7f89988c7cf8>,\n",
       " <folium.vector_layers.CircleMarker at 0x7f89988c7d30>,\n",
       " <folium.vector_layers.CircleMarker at 0x7f89988c7d68>,\n",
       " <folium.vector_layers.CircleMarker at 0x7f89988c7da0>,\n",
       " <folium.vector_layers.CircleMarker at 0x7f89988c7dd8>,\n",
       " <folium.vector_layers.CircleMarker at 0x7f89988c7e10>,\n",
       " <folium.vector_layers.CircleMarker at 0x7f89988c7e48>,\n",
       " <folium.vector_layers.CircleMarker at 0x7f89988c7e80>,\n",
       " <folium.vector_layers.CircleMarker at 0x7f89988c7eb8>,\n",
       " <folium.vector_layers.CircleMarker at 0x7f89988c7ef0>,\n",
       " <folium.vector_layers.CircleMarker at 0x7f89988c7f28>,\n",
       " <folium.vector_layers.CircleMarker at 0x7f89988c7f60>,\n",
       " <folium.vector_layers.CircleMarker at 0x7f89988c7f98>,\n",
       " <folium.vector_layers.CircleMarker at 0x7f89988c7fd0>,\n",
       " <folium.vector_layers.CircleMarker at 0x7f89988c7048>,\n",
       " <folium.vector_layers.CircleMarker at 0x7f89988d5048>,\n",
       " <folium.vector_layers.CircleMarker at 0x7f89988d50b8>,\n",
       " <folium.vector_layers.CircleMarker at 0x7f89988d50f0>,\n",
       " <folium.vector_layers.CircleMarker at 0x7f89988d5128>,\n",
       " <folium.vector_layers.CircleMarker at 0x7f89988d5160>,\n",
       " <folium.vector_layers.CircleMarker at 0x7f89988d5198>,\n",
       " <folium.vector_layers.CircleMarker at 0x7f89988d51d0>,\n",
       " <folium.vector_layers.CircleMarker at 0x7f89988d5208>,\n",
       " <folium.vector_layers.CircleMarker at 0x7f89988d5240>,\n",
       " <folium.vector_layers.CircleMarker at 0x7f89988d5278>,\n",
       " <folium.vector_layers.CircleMarker at 0x7f89988d52b0>,\n",
       " <folium.vector_layers.CircleMarker at 0x7f89988d52e8>,\n",
       " <folium.vector_layers.CircleMarker at 0x7f89988d5320>,\n",
       " <folium.vector_layers.CircleMarker at 0x7f89988d5358>,\n",
       " <folium.vector_layers.CircleMarker at 0x7f89988d5390>,\n",
       " <folium.vector_layers.CircleMarker at 0x7f89988d53c8>,\n",
       " <folium.vector_layers.CircleMarker at 0x7f89988d5400>,\n",
       " <folium.vector_layers.CircleMarker at 0x7f89988d5438>,\n",
       " <folium.vector_layers.CircleMarker at 0x7f89988d5470>,\n",
       " <folium.vector_layers.CircleMarker at 0x7f89988d54a8>,\n",
       " <folium.vector_layers.CircleMarker at 0x7f89988d54e0>,\n",
       " <folium.vector_layers.CircleMarker at 0x7f89988d5518>,\n",
       " <folium.vector_layers.CircleMarker at 0x7f89988d5550>,\n",
       " <folium.vector_layers.CircleMarker at 0x7f89988d5588>,\n",
       " <folium.vector_layers.CircleMarker at 0x7f89988d55c0>,\n",
       " <folium.vector_layers.CircleMarker at 0x7f89988d55f8>,\n",
       " <folium.vector_layers.CircleMarker at 0x7f89988d5630>,\n",
       " <folium.vector_layers.CircleMarker at 0x7f89988d5668>,\n",
       " <folium.vector_layers.CircleMarker at 0x7f89988d56a0>,\n",
       " <folium.vector_layers.CircleMarker at 0x7f89988d56d8>,\n",
       " <folium.vector_layers.CircleMarker at 0x7f89988d5710>,\n",
       " <folium.vector_layers.CircleMarker at 0x7f89988d5748>,\n",
       " <folium.vector_layers.CircleMarker at 0x7f89988d5780>,\n",
       " <folium.vector_layers.CircleMarker at 0x7f89988d57b8>,\n",
       " <folium.vector_layers.CircleMarker at 0x7f89988d57f0>,\n",
       " <folium.vector_layers.CircleMarker at 0x7f89988d5828>,\n",
       " <folium.vector_layers.CircleMarker at 0x7f89988d5860>,\n",
       " <folium.vector_layers.CircleMarker at 0x7f89988d5898>,\n",
       " <folium.vector_layers.CircleMarker at 0x7f89988d58d0>,\n",
       " <folium.vector_layers.CircleMarker at 0x7f89988d5908>,\n",
       " <folium.vector_layers.CircleMarker at 0x7f89988d5940>,\n",
       " <folium.vector_layers.CircleMarker at 0x7f89988d5978>,\n",
       " <folium.vector_layers.CircleMarker at 0x7f89988d59b0>,\n",
       " <folium.vector_layers.CircleMarker at 0x7f89988d59e8>,\n",
       " <folium.vector_layers.CircleMarker at 0x7f89988d5a20>,\n",
       " <folium.vector_layers.CircleMarker at 0x7f89988d5a58>,\n",
       " <folium.vector_layers.CircleMarker at 0x7f89988d5a90>,\n",
       " <folium.vector_layers.CircleMarker at 0x7f89988d5ac8>,\n",
       " <folium.vector_layers.CircleMarker at 0x7f89988d5b00>,\n",
       " <folium.vector_layers.CircleMarker at 0x7f89988d5b38>,\n",
       " <folium.vector_layers.CircleMarker at 0x7f89988d5b70>,\n",
       " <folium.vector_layers.CircleMarker at 0x7f89988d5ba8>,\n",
       " <folium.vector_layers.CircleMarker at 0x7f89988d5be0>,\n",
       " <folium.vector_layers.CircleMarker at 0x7f89988d5c18>,\n",
       " <folium.vector_layers.CircleMarker at 0x7f89988d5c50>,\n",
       " <folium.vector_layers.CircleMarker at 0x7f89988d5c88>,\n",
       " <folium.vector_layers.CircleMarker at 0x7f89988d5cc0>,\n",
       " <folium.vector_layers.CircleMarker at 0x7f89988d5cf8>,\n",
       " <folium.vector_layers.CircleMarker at 0x7f89988d5d30>,\n",
       " <folium.vector_layers.CircleMarker at 0x7f89988d5d68>,\n",
       " <folium.vector_layers.CircleMarker at 0x7f89988d5da0>,\n",
       " <folium.vector_layers.CircleMarker at 0x7f89988d5dd8>,\n",
       " <folium.vector_layers.CircleMarker at 0x7f89988d5e10>,\n",
       " <folium.vector_layers.CircleMarker at 0x7f89988d5e48>,\n",
       " <folium.vector_layers.CircleMarker at 0x7f89988d5e80>,\n",
       " <folium.vector_layers.CircleMarker at 0x7f89988d5eb8>,\n",
       " <folium.vector_layers.CircleMarker at 0x7f89988d5ef0>,\n",
       " <folium.vector_layers.CircleMarker at 0x7f89988d5f28>,\n",
       " <folium.vector_layers.CircleMarker at 0x7f89988d5f60>,\n",
       " <folium.vector_layers.CircleMarker at 0x7f89988d5f98>,\n",
       " <folium.vector_layers.CircleMarker at 0x7f89988d5fd0>,\n",
       " <folium.vector_layers.CircleMarker at 0x7f89988d5080>,\n",
       " <folium.vector_layers.CircleMarker at 0x7f8998862048>,\n",
       " <folium.vector_layers.CircleMarker at 0x7f89988620b8>,\n",
       " <folium.vector_layers.CircleMarker at 0x7f89988620f0>,\n",
       " <folium.vector_layers.CircleMarker at 0x7f8998862128>,\n",
       " <folium.vector_layers.CircleMarker at 0x7f8998862160>,\n",
       " <folium.vector_layers.CircleMarker at 0x7f8998862198>,\n",
       " <folium.vector_layers.CircleMarker at 0x7f89988621d0>,\n",
       " <folium.vector_layers.CircleMarker at 0x7f8998862208>,\n",
       " <folium.vector_layers.CircleMarker at 0x7f8998862240>,\n",
       " <folium.vector_layers.CircleMarker at 0x7f8998862278>,\n",
       " <folium.vector_layers.CircleMarker at 0x7f89988622b0>,\n",
       " <folium.vector_layers.CircleMarker at 0x7f89988622e8>,\n",
       " <folium.vector_layers.CircleMarker at 0x7f8998862320>,\n",
       " <folium.vector_layers.CircleMarker at 0x7f8998862358>,\n",
       " <folium.vector_layers.CircleMarker at 0x7f8998862390>,\n",
       " <folium.vector_layers.CircleMarker at 0x7f89988623c8>,\n",
       " <folium.vector_layers.CircleMarker at 0x7f8998862400>,\n",
       " <folium.vector_layers.CircleMarker at 0x7f8998862438>,\n",
       " <folium.vector_layers.CircleMarker at 0x7f8998862470>,\n",
       " <folium.vector_layers.CircleMarker at 0x7f89988624a8>,\n",
       " <folium.vector_layers.CircleMarker at 0x7f89988624e0>,\n",
       " <folium.vector_layers.CircleMarker at 0x7f8998862518>,\n",
       " <folium.vector_layers.CircleMarker at 0x7f8998862550>,\n",
       " <folium.vector_layers.CircleMarker at 0x7f8998862588>,\n",
       " <folium.vector_layers.CircleMarker at 0x7f89988625c0>,\n",
       " <folium.vector_layers.CircleMarker at 0x7f89988625f8>,\n",
       " <folium.vector_layers.CircleMarker at 0x7f8998862630>,\n",
       " <folium.vector_layers.CircleMarker at 0x7f8998862668>,\n",
       " <folium.vector_layers.CircleMarker at 0x7f89988626a0>,\n",
       " <folium.vector_layers.CircleMarker at 0x7f89988626d8>,\n",
       " <folium.vector_layers.CircleMarker at 0x7f8998862710>,\n",
       " <folium.vector_layers.CircleMarker at 0x7f8998862748>,\n",
       " <folium.vector_layers.CircleMarker at 0x7f8998862780>,\n",
       " <folium.vector_layers.CircleMarker at 0x7f89988627b8>,\n",
       " <folium.vector_layers.CircleMarker at 0x7f89988627f0>,\n",
       " <folium.vector_layers.CircleMarker at 0x7f8998862828>,\n",
       " <folium.vector_layers.CircleMarker at 0x7f8998862860>,\n",
       " <folium.vector_layers.CircleMarker at 0x7f8998862898>,\n",
       " <folium.vector_layers.CircleMarker at 0x7f89988628d0>,\n",
       " <folium.vector_layers.CircleMarker at 0x7f8998862908>,\n",
       " <folium.vector_layers.CircleMarker at 0x7f8998862940>,\n",
       " <folium.vector_layers.CircleMarker at 0x7f8998862978>,\n",
       " <folium.vector_layers.CircleMarker at 0x7f89988629b0>,\n",
       " <folium.vector_layers.CircleMarker at 0x7f89988629e8>,\n",
       " <folium.vector_layers.CircleMarker at 0x7f8998862a20>,\n",
       " <folium.vector_layers.CircleMarker at 0x7f8998862a58>,\n",
       " <folium.vector_layers.CircleMarker at 0x7f8998862a90>,\n",
       " <folium.vector_layers.CircleMarker at 0x7f8998862ac8>,\n",
       " <folium.vector_layers.CircleMarker at 0x7f8998862b00>,\n",
       " <folium.vector_layers.CircleMarker at 0x7f8998862b38>,\n",
       " <folium.vector_layers.CircleMarker at 0x7f8998862b70>,\n",
       " <folium.vector_layers.CircleMarker at 0x7f8998862ba8>,\n",
       " <folium.vector_layers.CircleMarker at 0x7f8998862be0>,\n",
       " <folium.vector_layers.CircleMarker at 0x7f8998862c18>,\n",
       " <folium.vector_layers.CircleMarker at 0x7f8998862c50>,\n",
       " <folium.vector_layers.CircleMarker at 0x7f8998862c88>,\n",
       " <folium.vector_layers.CircleMarker at 0x7f8998862cc0>,\n",
       " <folium.vector_layers.CircleMarker at 0x7f8998862cf8>,\n",
       " <folium.vector_layers.CircleMarker at 0x7f8998862d30>,\n",
       " <folium.vector_layers.CircleMarker at 0x7f8998862d68>,\n",
       " <folium.vector_layers.CircleMarker at 0x7f8998862da0>,\n",
       " <folium.vector_layers.CircleMarker at 0x7f8998862dd8>,\n",
       " <folium.vector_layers.CircleMarker at 0x7f8998862e10>,\n",
       " <folium.vector_layers.CircleMarker at 0x7f8998862e48>,\n",
       " <folium.vector_layers.CircleMarker at 0x7f8998862e80>,\n",
       " <folium.vector_layers.CircleMarker at 0x7f8998862eb8>,\n",
       " <folium.vector_layers.CircleMarker at 0x7f8998862ef0>,\n",
       " <folium.vector_layers.CircleMarker at 0x7f8998862f28>,\n",
       " <folium.vector_layers.CircleMarker at 0x7f8998862f60>,\n",
       " <folium.vector_layers.CircleMarker at 0x7f8998862f98>,\n",
       " <folium.vector_layers.CircleMarker at 0x7f8998862fd0>,\n",
       " <folium.vector_layers.CircleMarker at 0x7f8998862080>,\n",
       " <folium.vector_layers.CircleMarker at 0x7f8998871080>,\n",
       " <folium.vector_layers.CircleMarker at 0x7f89988710b8>,\n",
       " <folium.vector_layers.CircleMarker at 0x7f89988710f0>,\n",
       " <folium.vector_layers.CircleMarker at 0x7f8998871128>,\n",
       " <folium.vector_layers.CircleMarker at 0x7f8998871160>,\n",
       " <folium.vector_layers.CircleMarker at 0x7f8998871198>,\n",
       " <folium.vector_layers.CircleMarker at 0x7f89988711d0>,\n",
       " <folium.vector_layers.CircleMarker at 0x7f8998871208>,\n",
       " <folium.vector_layers.CircleMarker at 0x7f8998871240>,\n",
       " <folium.vector_layers.CircleMarker at 0x7f8998871278>,\n",
       " <folium.vector_layers.CircleMarker at 0x7f89988712b0>,\n",
       " <folium.vector_layers.CircleMarker at 0x7f89988712e8>,\n",
       " <folium.vector_layers.CircleMarker at 0x7f8998871320>,\n",
       " <folium.vector_layers.CircleMarker at 0x7f8998871358>,\n",
       " <folium.vector_layers.CircleMarker at 0x7f8998871390>,\n",
       " <folium.vector_layers.CircleMarker at 0x7f89988713c8>,\n",
       " <folium.vector_layers.CircleMarker at 0x7f8998871400>,\n",
       " <folium.vector_layers.CircleMarker at 0x7f8998871438>,\n",
       " <folium.vector_layers.CircleMarker at 0x7f8998871470>,\n",
       " <folium.vector_layers.CircleMarker at 0x7f89988714a8>,\n",
       " <folium.vector_layers.CircleMarker at 0x7f89988714e0>,\n",
       " <folium.vector_layers.CircleMarker at 0x7f8998871518>,\n",
       " <folium.vector_layers.CircleMarker at 0x7f8998871550>,\n",
       " <folium.vector_layers.CircleMarker at 0x7f8998871588>,\n",
       " <folium.vector_layers.CircleMarker at 0x7f89988715c0>,\n",
       " <folium.vector_layers.CircleMarker at 0x7f89988715f8>,\n",
       " <folium.vector_layers.CircleMarker at 0x7f8998871630>,\n",
       " <folium.vector_layers.CircleMarker at 0x7f8998871668>,\n",
       " <folium.vector_layers.CircleMarker at 0x7f89988716a0>,\n",
       " <folium.vector_layers.CircleMarker at 0x7f89988716d8>,\n",
       " <folium.vector_layers.CircleMarker at 0x7f8998871710>,\n",
       " <folium.vector_layers.CircleMarker at 0x7f8998871748>,\n",
       " <folium.vector_layers.CircleMarker at 0x7f8998871780>,\n",
       " <folium.vector_layers.CircleMarker at 0x7f89988717b8>,\n",
       " <folium.vector_layers.CircleMarker at 0x7f89988717f0>,\n",
       " <folium.vector_layers.CircleMarker at 0x7f8998871828>,\n",
       " <folium.vector_layers.CircleMarker at 0x7f8998871860>,\n",
       " <folium.vector_layers.CircleMarker at 0x7f8998871898>,\n",
       " <folium.vector_layers.CircleMarker at 0x7f89988718d0>,\n",
       " <folium.vector_layers.CircleMarker at 0x7f8998871908>,\n",
       " <folium.vector_layers.CircleMarker at 0x7f8998871940>,\n",
       " <folium.vector_layers.CircleMarker at 0x7f8998871978>,\n",
       " <folium.vector_layers.CircleMarker at 0x7f89988719b0>,\n",
       " <folium.vector_layers.CircleMarker at 0x7f89988719e8>,\n",
       " <folium.vector_layers.CircleMarker at 0x7f8998871a20>,\n",
       " <folium.vector_layers.CircleMarker at 0x7f8998871a58>,\n",
       " <folium.vector_layers.CircleMarker at 0x7f8998871a90>,\n",
       " <folium.vector_layers.CircleMarker at 0x7f8998871ac8>,\n",
       " <folium.vector_layers.CircleMarker at 0x7f8998871b00>,\n",
       " <folium.vector_layers.CircleMarker at 0x7f8998871b38>,\n",
       " <folium.vector_layers.CircleMarker at 0x7f8998871b70>,\n",
       " <folium.vector_layers.CircleMarker at 0x7f8998871ba8>,\n",
       " <folium.vector_layers.CircleMarker at 0x7f8998871be0>,\n",
       " <folium.vector_layers.CircleMarker at 0x7f8998871c18>,\n",
       " <folium.vector_layers.CircleMarker at 0x7f8998871c50>,\n",
       " <folium.vector_layers.CircleMarker at 0x7f8998871c88>,\n",
       " <folium.vector_layers.CircleMarker at 0x7f8998871cc0>,\n",
       " <folium.vector_layers.CircleMarker at 0x7f8998871cf8>,\n",
       " <folium.vector_layers.CircleMarker at 0x7f8998871d30>,\n",
       " <folium.vector_layers.CircleMarker at 0x7f8998871d68>,\n",
       " <folium.vector_layers.CircleMarker at 0x7f8998871da0>,\n",
       " <folium.vector_layers.CircleMarker at 0x7f8998871dd8>,\n",
       " <folium.vector_layers.CircleMarker at 0x7f8998871e10>,\n",
       " <folium.vector_layers.CircleMarker at 0x7f8998871e48>,\n",
       " <folium.vector_layers.CircleMarker at 0x7f8998871e80>,\n",
       " <folium.vector_layers.CircleMarker at 0x7f8998871eb8>,\n",
       " <folium.vector_layers.CircleMarker at 0x7f8998871ef0>,\n",
       " <folium.vector_layers.CircleMarker at 0x7f8998871f28>,\n",
       " <folium.vector_layers.CircleMarker at 0x7f8998871f60>,\n",
       " <folium.vector_layers.CircleMarker at 0x7f8998871f98>,\n",
       " <folium.vector_layers.CircleMarker at 0x7f8998871fd0>,\n",
       " <folium.vector_layers.CircleMarker at 0x7f8998871048>,\n",
       " <folium.vector_layers.CircleMarker at 0x7f899887e080>,\n",
       " <folium.vector_layers.CircleMarker at 0x7f899887e0b8>,\n",
       " <folium.vector_layers.CircleMarker at 0x7f899887e0f0>,\n",
       " <folium.vector_layers.CircleMarker at 0x7f899887e128>,\n",
       " <folium.vector_layers.CircleMarker at 0x7f899887e160>,\n",
       " <folium.vector_layers.CircleMarker at 0x7f899887e198>,\n",
       " <folium.vector_layers.CircleMarker at 0x7f899887e1d0>,\n",
       " <folium.vector_layers.CircleMarker at 0x7f899887e208>,\n",
       " <folium.vector_layers.CircleMarker at 0x7f899887e240>,\n",
       " <folium.vector_layers.CircleMarker at 0x7f899887e278>,\n",
       " <folium.vector_layers.CircleMarker at 0x7f899887e2b0>,\n",
       " <folium.vector_layers.CircleMarker at 0x7f899887e2e8>,\n",
       " <folium.vector_layers.CircleMarker at 0x7f899887e320>,\n",
       " <folium.vector_layers.CircleMarker at 0x7f899887e358>,\n",
       " <folium.vector_layers.CircleMarker at 0x7f899887e390>,\n",
       " <folium.vector_layers.CircleMarker at 0x7f899887e3c8>,\n",
       " <folium.vector_layers.CircleMarker at 0x7f899887e400>,\n",
       " <folium.vector_layers.CircleMarker at 0x7f899887e438>,\n",
       " <folium.vector_layers.CircleMarker at 0x7f899887e470>,\n",
       " <folium.vector_layers.CircleMarker at 0x7f899887e4a8>,\n",
       " <folium.vector_layers.CircleMarker at 0x7f899887e4e0>,\n",
       " <folium.vector_layers.CircleMarker at 0x7f899887e518>,\n",
       " <folium.vector_layers.CircleMarker at 0x7f899887e550>,\n",
       " <folium.vector_layers.CircleMarker at 0x7f899887e588>,\n",
       " <folium.vector_layers.CircleMarker at 0x7f899887e5c0>,\n",
       " <folium.vector_layers.CircleMarker at 0x7f899887e5f8>,\n",
       " <folium.vector_layers.CircleMarker at 0x7f899887e630>,\n",
       " <folium.vector_layers.CircleMarker at 0x7f899887e668>,\n",
       " <folium.vector_layers.CircleMarker at 0x7f899887e6a0>,\n",
       " <folium.vector_layers.CircleMarker at 0x7f899887e6d8>,\n",
       " <folium.vector_layers.CircleMarker at 0x7f899887e710>,\n",
       " <folium.vector_layers.CircleMarker at 0x7f899887e748>,\n",
       " <folium.vector_layers.CircleMarker at 0x7f899887e780>,\n",
       " <folium.vector_layers.CircleMarker at 0x7f899887e7b8>,\n",
       " <folium.vector_layers.CircleMarker at 0x7f899887e7f0>,\n",
       " <folium.vector_layers.CircleMarker at 0x7f899887e828>,\n",
       " <folium.vector_layers.CircleMarker at 0x7f899887e860>,\n",
       " <folium.vector_layers.CircleMarker at 0x7f899887e898>,\n",
       " <folium.vector_layers.CircleMarker at 0x7f899887e8d0>,\n",
       " <folium.vector_layers.CircleMarker at 0x7f899887e908>,\n",
       " <folium.vector_layers.CircleMarker at 0x7f899887e940>,\n",
       " <folium.vector_layers.CircleMarker at 0x7f899887e978>,\n",
       " <folium.vector_layers.CircleMarker at 0x7f899887e9b0>,\n",
       " <folium.vector_layers.CircleMarker at 0x7f899887e9e8>,\n",
       " <folium.vector_layers.CircleMarker at 0x7f899887ea20>,\n",
       " <folium.vector_layers.CircleMarker at 0x7f899887ea58>,\n",
       " <folium.vector_layers.CircleMarker at 0x7f899887ea90>,\n",
       " <folium.vector_layers.CircleMarker at 0x7f899887eac8>,\n",
       " <folium.vector_layers.CircleMarker at 0x7f899887eb00>,\n",
       " <folium.vector_layers.CircleMarker at 0x7f899887eb38>,\n",
       " <folium.vector_layers.CircleMarker at 0x7f899887eb70>,\n",
       " <folium.vector_layers.CircleMarker at 0x7f899887eba8>,\n",
       " <folium.vector_layers.CircleMarker at 0x7f899887ebe0>,\n",
       " <folium.vector_layers.CircleMarker at 0x7f899887ec18>,\n",
       " <folium.vector_layers.CircleMarker at 0x7f899887ec50>,\n",
       " <folium.vector_layers.CircleMarker at 0x7f899887ec88>,\n",
       " <folium.vector_layers.CircleMarker at 0x7f899887ecc0>,\n",
       " <folium.vector_layers.CircleMarker at 0x7f899887ecf8>,\n",
       " <folium.vector_layers.CircleMarker at 0x7f899887ed30>,\n",
       " <folium.vector_layers.CircleMarker at 0x7f899887ed68>,\n",
       " <folium.vector_layers.CircleMarker at 0x7f899887eda0>,\n",
       " <folium.vector_layers.CircleMarker at 0x7f899887edd8>,\n",
       " <folium.vector_layers.CircleMarker at 0x7f899887ee10>,\n",
       " <folium.vector_layers.CircleMarker at 0x7f899887ee48>,\n",
       " <folium.vector_layers.CircleMarker at 0x7f899887ee80>,\n",
       " <folium.vector_layers.CircleMarker at 0x7f899887eeb8>,\n",
       " <folium.vector_layers.CircleMarker at 0x7f899887eef0>,\n",
       " <folium.vector_layers.CircleMarker at 0x7f899887ef28>,\n",
       " <folium.vector_layers.CircleMarker at 0x7f899887ef60>,\n",
       " <folium.vector_layers.CircleMarker at 0x7f899887ef98>,\n",
       " <folium.vector_layers.CircleMarker at 0x7f899887efd0>,\n",
       " <folium.vector_layers.CircleMarker at 0x7f899887e048>,\n",
       " <folium.vector_layers.CircleMarker at 0x7f899888c080>,\n",
       " <folium.vector_layers.CircleMarker at 0x7f899888c0b8>,\n",
       " <folium.vector_layers.CircleMarker at 0x7f899888c0f0>,\n",
       " <folium.vector_layers.CircleMarker at 0x7f899888c128>,\n",
       " <folium.vector_layers.CircleMarker at 0x7f899888c160>,\n",
       " <folium.vector_layers.CircleMarker at 0x7f899888c198>,\n",
       " <folium.vector_layers.CircleMarker at 0x7f899888c1d0>,\n",
       " <folium.vector_layers.CircleMarker at 0x7f899888c208>,\n",
       " <folium.vector_layers.CircleMarker at 0x7f899888c240>,\n",
       " <folium.vector_layers.CircleMarker at 0x7f899888c278>,\n",
       " <folium.vector_layers.CircleMarker at 0x7f899888c2b0>,\n",
       " <folium.vector_layers.CircleMarker at 0x7f899888c2e8>,\n",
       " <folium.vector_layers.CircleMarker at 0x7f899888c320>,\n",
       " <folium.vector_layers.CircleMarker at 0x7f899888c358>,\n",
       " <folium.vector_layers.CircleMarker at 0x7f899888c390>,\n",
       " <folium.vector_layers.CircleMarker at 0x7f899888c3c8>,\n",
       " <folium.vector_layers.CircleMarker at 0x7f899888c400>,\n",
       " <folium.vector_layers.CircleMarker at 0x7f899888c438>,\n",
       " <folium.vector_layers.CircleMarker at 0x7f899888c470>,\n",
       " <folium.vector_layers.CircleMarker at 0x7f899888c4a8>,\n",
       " <folium.vector_layers.CircleMarker at 0x7f899888c4e0>,\n",
       " <folium.vector_layers.CircleMarker at 0x7f899888c518>,\n",
       " <folium.vector_layers.CircleMarker at 0x7f899888c550>,\n",
       " <folium.vector_layers.CircleMarker at 0x7f899888c588>,\n",
       " <folium.vector_layers.CircleMarker at 0x7f899888c5c0>,\n",
       " <folium.vector_layers.CircleMarker at 0x7f899888c5f8>,\n",
       " <folium.vector_layers.CircleMarker at 0x7f899888c630>,\n",
       " <folium.vector_layers.CircleMarker at 0x7f899888c668>,\n",
       " <folium.vector_layers.CircleMarker at 0x7f899888c6a0>,\n",
       " <folium.vector_layers.CircleMarker at 0x7f899888c6d8>,\n",
       " <folium.vector_layers.CircleMarker at 0x7f899888c710>,\n",
       " <folium.vector_layers.CircleMarker at 0x7f899888c748>,\n",
       " <folium.vector_layers.CircleMarker at 0x7f899888c780>,\n",
       " <folium.vector_layers.CircleMarker at 0x7f899888c7b8>,\n",
       " <folium.vector_layers.CircleMarker at 0x7f899888c7f0>,\n",
       " <folium.vector_layers.CircleMarker at 0x7f899888c828>,\n",
       " <folium.vector_layers.CircleMarker at 0x7f899888c860>,\n",
       " <folium.vector_layers.CircleMarker at 0x7f899888c898>,\n",
       " <folium.vector_layers.CircleMarker at 0x7f899888c8d0>,\n",
       " <folium.vector_layers.CircleMarker at 0x7f899888c908>,\n",
       " <folium.vector_layers.CircleMarker at 0x7f899888c940>,\n",
       " <folium.vector_layers.CircleMarker at 0x7f899888c978>,\n",
       " <folium.vector_layers.CircleMarker at 0x7f899888c9b0>,\n",
       " <folium.vector_layers.CircleMarker at 0x7f899888c9e8>,\n",
       " <folium.vector_layers.CircleMarker at 0x7f899888ca20>,\n",
       " <folium.vector_layers.CircleMarker at 0x7f899888ca58>,\n",
       " <folium.vector_layers.CircleMarker at 0x7f899888ca90>,\n",
       " <folium.vector_layers.CircleMarker at 0x7f899888cac8>,\n",
       " <folium.vector_layers.CircleMarker at 0x7f899888cb00>,\n",
       " <folium.vector_layers.CircleMarker at 0x7f899888cb38>,\n",
       " <folium.vector_layers.CircleMarker at 0x7f899888cb70>,\n",
       " <folium.vector_layers.CircleMarker at 0x7f899888cba8>,\n",
       " <folium.vector_layers.CircleMarker at 0x7f899888cbe0>,\n",
       " <folium.vector_layers.CircleMarker at 0x7f899888cc18>,\n",
       " <folium.vector_layers.CircleMarker at 0x7f899888cc50>,\n",
       " <folium.vector_layers.CircleMarker at 0x7f899888cc88>,\n",
       " <folium.vector_layers.CircleMarker at 0x7f899888ccc0>,\n",
       " <folium.vector_layers.CircleMarker at 0x7f899888ccf8>,\n",
       " <folium.vector_layers.CircleMarker at 0x7f899888cd30>,\n",
       " <folium.vector_layers.CircleMarker at 0x7f899888cd68>,\n",
       " <folium.vector_layers.CircleMarker at 0x7f899888cda0>,\n",
       " <folium.vector_layers.CircleMarker at 0x7f899888cdd8>,\n",
       " <folium.vector_layers.CircleMarker at 0x7f899888ce10>,\n",
       " <folium.vector_layers.CircleMarker at 0x7f899888ce48>,\n",
       " <folium.vector_layers.CircleMarker at 0x7f899888ce80>,\n",
       " <folium.vector_layers.CircleMarker at 0x7f899888ceb8>,\n",
       " <folium.vector_layers.CircleMarker at 0x7f899888cef0>,\n",
       " <folium.vector_layers.CircleMarker at 0x7f899888cf28>,\n",
       " <folium.vector_layers.CircleMarker at 0x7f899888cf60>,\n",
       " <folium.vector_layers.CircleMarker at 0x7f899888cf98>,\n",
       " <folium.vector_layers.CircleMarker at 0x7f899888cfd0>,\n",
       " <folium.vector_layers.CircleMarker at 0x7f899888c048>,\n",
       " <folium.vector_layers.CircleMarker at 0x7f8998819080>,\n",
       " <folium.vector_layers.CircleMarker at 0x7f89988190b8>,\n",
       " <folium.vector_layers.CircleMarker at 0x7f89988190f0>,\n",
       " <folium.vector_layers.CircleMarker at 0x7f8998819128>,\n",
       " <folium.vector_layers.CircleMarker at 0x7f8998819160>,\n",
       " <folium.vector_layers.CircleMarker at 0x7f8998819198>,\n",
       " <folium.vector_layers.CircleMarker at 0x7f89988191d0>,\n",
       " <folium.vector_layers.CircleMarker at 0x7f8998819208>,\n",
       " <folium.vector_layers.CircleMarker at 0x7f8998819240>,\n",
       " <folium.vector_layers.CircleMarker at 0x7f8998819278>,\n",
       " <folium.vector_layers.CircleMarker at 0x7f89988192b0>,\n",
       " <folium.vector_layers.CircleMarker at 0x7f89988192e8>,\n",
       " <folium.vector_layers.CircleMarker at 0x7f8998819320>,\n",
       " <folium.vector_layers.CircleMarker at 0x7f8998819358>,\n",
       " <folium.vector_layers.CircleMarker at 0x7f8998819390>,\n",
       " <folium.vector_layers.CircleMarker at 0x7f89988193c8>,\n",
       " <folium.vector_layers.CircleMarker at 0x7f8998819400>,\n",
       " <folium.vector_layers.CircleMarker at 0x7f8998819438>,\n",
       " <folium.vector_layers.CircleMarker at 0x7f8998819470>,\n",
       " <folium.vector_layers.CircleMarker at 0x7f89988194a8>,\n",
       " <folium.vector_layers.CircleMarker at 0x7f89988194e0>,\n",
       " <folium.vector_layers.CircleMarker at 0x7f8998819518>,\n",
       " <folium.vector_layers.CircleMarker at 0x7f8998819550>,\n",
       " <folium.vector_layers.CircleMarker at 0x7f8998819588>,\n",
       " <folium.vector_layers.CircleMarker at 0x7f89988195c0>,\n",
       " <folium.vector_layers.CircleMarker at 0x7f89988195f8>,\n",
       " <folium.vector_layers.CircleMarker at 0x7f8998819630>,\n",
       " <folium.vector_layers.CircleMarker at 0x7f8998819668>,\n",
       " <folium.vector_layers.CircleMarker at 0x7f89988196a0>,\n",
       " <folium.vector_layers.CircleMarker at 0x7f89988196d8>,\n",
       " <folium.vector_layers.CircleMarker at 0x7f8998819710>,\n",
       " <folium.vector_layers.CircleMarker at 0x7f8998819748>,\n",
       " <folium.vector_layers.CircleMarker at 0x7f8998819780>,\n",
       " <folium.vector_layers.CircleMarker at 0x7f89988197b8>,\n",
       " <folium.vector_layers.CircleMarker at 0x7f89988197f0>,\n",
       " <folium.vector_layers.CircleMarker at 0x7f8998819828>,\n",
       " <folium.vector_layers.CircleMarker at 0x7f8998819860>,\n",
       " <folium.vector_layers.CircleMarker at 0x7f8998819898>,\n",
       " <folium.vector_layers.CircleMarker at 0x7f89988198d0>,\n",
       " <folium.vector_layers.CircleMarker at 0x7f8998819908>,\n",
       " <folium.vector_layers.CircleMarker at 0x7f8998819940>,\n",
       " <folium.vector_layers.CircleMarker at 0x7f8998819978>,\n",
       " <folium.vector_layers.CircleMarker at 0x7f89988199b0>,\n",
       " <folium.vector_layers.CircleMarker at 0x7f89988199e8>,\n",
       " <folium.vector_layers.CircleMarker at 0x7f8998819a20>,\n",
       " <folium.vector_layers.CircleMarker at 0x7f8998819a58>,\n",
       " <folium.vector_layers.CircleMarker at 0x7f8998819a90>,\n",
       " <folium.vector_layers.CircleMarker at 0x7f8998819ac8>,\n",
       " <folium.vector_layers.CircleMarker at 0x7f8998819b00>,\n",
       " <folium.vector_layers.CircleMarker at 0x7f8998819b38>,\n",
       " <folium.vector_layers.CircleMarker at 0x7f8998819b70>,\n",
       " <folium.vector_layers.CircleMarker at 0x7f8998819ba8>,\n",
       " <folium.vector_layers.CircleMarker at 0x7f8998819be0>,\n",
       " <folium.vector_layers.CircleMarker at 0x7f8998819c18>,\n",
       " <folium.vector_layers.CircleMarker at 0x7f8998819c50>,\n",
       " <folium.vector_layers.CircleMarker at 0x7f8998819c88>,\n",
       " <folium.vector_layers.CircleMarker at 0x7f8998819cc0>,\n",
       " <folium.vector_layers.CircleMarker at 0x7f8998819cf8>,\n",
       " <folium.vector_layers.CircleMarker at 0x7f8998819d30>,\n",
       " <folium.vector_layers.CircleMarker at 0x7f8998819d68>,\n",
       " <folium.vector_layers.CircleMarker at 0x7f8998819da0>,\n",
       " <folium.vector_layers.CircleMarker at 0x7f8998819dd8>,\n",
       " <folium.vector_layers.CircleMarker at 0x7f8998819e10>,\n",
       " <folium.vector_layers.CircleMarker at 0x7f8998819e48>,\n",
       " <folium.vector_layers.CircleMarker at 0x7f8998819e80>,\n",
       " <folium.vector_layers.CircleMarker at 0x7f8998819eb8>,\n",
       " <folium.vector_layers.CircleMarker at 0x7f8998819ef0>,\n",
       " <folium.vector_layers.CircleMarker at 0x7f8998819f28>,\n",
       " <folium.vector_layers.CircleMarker at 0x7f8998819f60>,\n",
       " <folium.vector_layers.CircleMarker at 0x7f8998819f98>,\n",
       " <folium.vector_layers.CircleMarker at 0x7f8998819fd0>,\n",
       " <folium.vector_layers.CircleMarker at 0x7f8998819048>,\n",
       " <folium.vector_layers.CircleMarker at 0x7f8998827080>,\n",
       " <folium.vector_layers.CircleMarker at 0x7f89988270b8>,\n",
       " <folium.vector_layers.CircleMarker at 0x7f89988270f0>,\n",
       " <folium.vector_layers.CircleMarker at 0x7f8998827128>,\n",
       " <folium.vector_layers.CircleMarker at 0x7f8998827160>,\n",
       " <folium.vector_layers.CircleMarker at 0x7f8998827198>,\n",
       " <folium.vector_layers.CircleMarker at 0x7f89988271d0>,\n",
       " <folium.vector_layers.CircleMarker at 0x7f8998827208>,\n",
       " <folium.vector_layers.CircleMarker at 0x7f8998827240>,\n",
       " <folium.vector_layers.CircleMarker at 0x7f8998827278>,\n",
       " <folium.vector_layers.CircleMarker at 0x7f89988272b0>,\n",
       " <folium.vector_layers.CircleMarker at 0x7f89988272e8>,\n",
       " <folium.vector_layers.CircleMarker at 0x7f8998827320>,\n",
       " <folium.vector_layers.CircleMarker at 0x7f8998827358>,\n",
       " <folium.vector_layers.CircleMarker at 0x7f8998827390>,\n",
       " <folium.vector_layers.CircleMarker at 0x7f89988273c8>,\n",
       " <folium.vector_layers.CircleMarker at 0x7f8998827400>,\n",
       " <folium.vector_layers.CircleMarker at 0x7f8998827438>,\n",
       " <folium.vector_layers.CircleMarker at 0x7f8998827470>,\n",
       " <folium.vector_layers.CircleMarker at 0x7f89988274a8>,\n",
       " <folium.vector_layers.CircleMarker at 0x7f89988274e0>,\n",
       " <folium.vector_layers.CircleMarker at 0x7f8998827518>,\n",
       " <folium.vector_layers.CircleMarker at 0x7f8998827550>,\n",
       " <folium.vector_layers.CircleMarker at 0x7f8998827588>,\n",
       " <folium.vector_layers.CircleMarker at 0x7f89988275c0>,\n",
       " <folium.vector_layers.CircleMarker at 0x7f89988275f8>,\n",
       " <folium.vector_layers.CircleMarker at 0x7f8998827630>,\n",
       " <folium.vector_layers.CircleMarker at 0x7f8998827668>,\n",
       " <folium.vector_layers.CircleMarker at 0x7f89988276a0>,\n",
       " <folium.vector_layers.CircleMarker at 0x7f89988276d8>,\n",
       " <folium.vector_layers.CircleMarker at 0x7f8998827710>,\n",
       " <folium.vector_layers.CircleMarker at 0x7f8998827748>,\n",
       " <folium.vector_layers.CircleMarker at 0x7f8998827780>,\n",
       " <folium.vector_layers.CircleMarker at 0x7f89988277b8>,\n",
       " <folium.vector_layers.CircleMarker at 0x7f89988277f0>,\n",
       " <folium.vector_layers.CircleMarker at 0x7f8998827828>,\n",
       " <folium.vector_layers.CircleMarker at 0x7f8998827860>,\n",
       " <folium.vector_layers.CircleMarker at 0x7f8998827898>,\n",
       " <folium.vector_layers.CircleMarker at 0x7f89988278d0>,\n",
       " <folium.vector_layers.CircleMarker at 0x7f8998827908>,\n",
       " <folium.vector_layers.CircleMarker at 0x7f8998827940>,\n",
       " <folium.vector_layers.CircleMarker at 0x7f8998827978>,\n",
       " <folium.vector_layers.CircleMarker at 0x7f89988279b0>,\n",
       " <folium.vector_layers.CircleMarker at 0x7f89988279e8>,\n",
       " <folium.vector_layers.CircleMarker at 0x7f8998827a20>,\n",
       " <folium.vector_layers.CircleMarker at 0x7f8998827a58>,\n",
       " <folium.vector_layers.CircleMarker at 0x7f8998827a90>,\n",
       " <folium.vector_layers.CircleMarker at 0x7f8998827ac8>,\n",
       " <folium.vector_layers.CircleMarker at 0x7f8998827b00>,\n",
       " <folium.vector_layers.CircleMarker at 0x7f8998827b38>,\n",
       " <folium.vector_layers.CircleMarker at 0x7f8998827b70>,\n",
       " <folium.vector_layers.CircleMarker at 0x7f8998827ba8>,\n",
       " <folium.vector_layers.CircleMarker at 0x7f8998827be0>,\n",
       " <folium.vector_layers.CircleMarker at 0x7f8998827c18>,\n",
       " <folium.vector_layers.CircleMarker at 0x7f8998827c50>,\n",
       " <folium.vector_layers.CircleMarker at 0x7f8998827c88>,\n",
       " <folium.vector_layers.CircleMarker at 0x7f8998827cc0>,\n",
       " <folium.vector_layers.CircleMarker at 0x7f8998827cf8>,\n",
       " <folium.vector_layers.CircleMarker at 0x7f8998827d30>,\n",
       " <folium.vector_layers.CircleMarker at 0x7f8998827d68>,\n",
       " <folium.vector_layers.CircleMarker at 0x7f8998827da0>,\n",
       " <folium.vector_layers.CircleMarker at 0x7f8998827dd8>,\n",
       " <folium.vector_layers.CircleMarker at 0x7f8998827e10>,\n",
       " <folium.vector_layers.CircleMarker at 0x7f8998827e48>,\n",
       " <folium.vector_layers.CircleMarker at 0x7f8998827e80>,\n",
       " <folium.vector_layers.CircleMarker at 0x7f8998827eb8>,\n",
       " <folium.vector_layers.CircleMarker at 0x7f8998827ef0>,\n",
       " <folium.vector_layers.CircleMarker at 0x7f8998827f28>,\n",
       " <folium.vector_layers.CircleMarker at 0x7f8998827f60>,\n",
       " <folium.vector_layers.CircleMarker at 0x7f8998827f98>,\n",
       " <folium.vector_layers.CircleMarker at 0x7f8998827fd0>,\n",
       " <folium.vector_layers.CircleMarker at 0x7f8998827048>,\n",
       " <folium.vector_layers.CircleMarker at 0x7f8998836048>,\n",
       " <folium.vector_layers.CircleMarker at 0x7f89988360b8>,\n",
       " <folium.vector_layers.CircleMarker at 0x7f89988360f0>,\n",
       " <folium.vector_layers.CircleMarker at 0x7f8998836128>,\n",
       " <folium.vector_layers.CircleMarker at 0x7f8998836160>,\n",
       " <folium.vector_layers.CircleMarker at 0x7f8998836198>,\n",
       " <folium.vector_layers.CircleMarker at 0x7f89988361d0>,\n",
       " <folium.vector_layers.CircleMarker at 0x7f8998836208>,\n",
       " <folium.vector_layers.CircleMarker at 0x7f8998836240>,\n",
       " <folium.vector_layers.CircleMarker at 0x7f8998836278>,\n",
       " <folium.vector_layers.CircleMarker at 0x7f89988362b0>,\n",
       " <folium.vector_layers.CircleMarker at 0x7f89988362e8>,\n",
       " <folium.vector_layers.CircleMarker at 0x7f8998836320>,\n",
       " <folium.vector_layers.CircleMarker at 0x7f8998836358>,\n",
       " <folium.vector_layers.CircleMarker at 0x7f8998836390>,\n",
       " <folium.vector_layers.CircleMarker at 0x7f89988363c8>,\n",
       " <folium.vector_layers.CircleMarker at 0x7f8998836400>,\n",
       " <folium.vector_layers.CircleMarker at 0x7f8998836438>,\n",
       " <folium.vector_layers.CircleMarker at 0x7f8998836470>,\n",
       " <folium.vector_layers.CircleMarker at 0x7f89988364a8>,\n",
       " <folium.vector_layers.CircleMarker at 0x7f89988364e0>,\n",
       " <folium.vector_layers.CircleMarker at 0x7f8998836518>,\n",
       " <folium.vector_layers.CircleMarker at 0x7f8998836550>,\n",
       " <folium.vector_layers.CircleMarker at 0x7f8998836588>,\n",
       " <folium.vector_layers.CircleMarker at 0x7f89988365c0>,\n",
       " <folium.vector_layers.CircleMarker at 0x7f89988365f8>,\n",
       " <folium.vector_layers.CircleMarker at 0x7f8998836630>,\n",
       " <folium.vector_layers.CircleMarker at 0x7f8998836668>,\n",
       " <folium.vector_layers.CircleMarker at 0x7f89988366a0>,\n",
       " <folium.vector_layers.CircleMarker at 0x7f89988366d8>,\n",
       " <folium.vector_layers.CircleMarker at 0x7f8998836710>,\n",
       " <folium.vector_layers.CircleMarker at 0x7f8998836748>,\n",
       " <folium.vector_layers.CircleMarker at 0x7f8998836780>,\n",
       " <folium.vector_layers.CircleMarker at 0x7f89988367b8>,\n",
       " <folium.vector_layers.CircleMarker at 0x7f89988367f0>,\n",
       " <folium.vector_layers.CircleMarker at 0x7f8998836828>,\n",
       " <folium.vector_layers.CircleMarker at 0x7f8998836860>,\n",
       " <folium.vector_layers.CircleMarker at 0x7f8998836898>,\n",
       " <folium.vector_layers.CircleMarker at 0x7f89988368d0>,\n",
       " <folium.vector_layers.CircleMarker at 0x7f8998836908>,\n",
       " <folium.vector_layers.CircleMarker at 0x7f8998836940>,\n",
       " <folium.vector_layers.CircleMarker at 0x7f8998836978>,\n",
       " <folium.vector_layers.CircleMarker at 0x7f89988369b0>,\n",
       " <folium.vector_layers.CircleMarker at 0x7f89988369e8>,\n",
       " <folium.vector_layers.CircleMarker at 0x7f8998836a20>,\n",
       " <folium.vector_layers.CircleMarker at 0x7f8998836a58>,\n",
       " <folium.vector_layers.CircleMarker at 0x7f8998836a90>,\n",
       " <folium.vector_layers.CircleMarker at 0x7f8998836ac8>,\n",
       " <folium.vector_layers.CircleMarker at 0x7f8998836b00>,\n",
       " <folium.vector_layers.CircleMarker at 0x7f8998836b38>,\n",
       " <folium.vector_layers.CircleMarker at 0x7f8998836b70>,\n",
       " <folium.vector_layers.CircleMarker at 0x7f8998836ba8>,\n",
       " <folium.vector_layers.CircleMarker at 0x7f8998836be0>,\n",
       " <folium.vector_layers.CircleMarker at 0x7f8998836c18>,\n",
       " <folium.vector_layers.CircleMarker at 0x7f8998836c50>,\n",
       " <folium.vector_layers.CircleMarker at 0x7f8998836c88>,\n",
       " <folium.vector_layers.CircleMarker at 0x7f8998836cc0>,\n",
       " <folium.vector_layers.CircleMarker at 0x7f8998836cf8>,\n",
       " <folium.vector_layers.CircleMarker at 0x7f8998836d30>,\n",
       " <folium.vector_layers.CircleMarker at 0x7f8998836d68>,\n",
       " <folium.vector_layers.CircleMarker at 0x7f8998836da0>,\n",
       " <folium.vector_layers.CircleMarker at 0x7f8998836dd8>,\n",
       " <folium.vector_layers.CircleMarker at 0x7f8998836e10>,\n",
       " <folium.vector_layers.CircleMarker at 0x7f8998836e48>,\n",
       " <folium.vector_layers.CircleMarker at 0x7f8998836e80>,\n",
       " <folium.vector_layers.CircleMarker at 0x7f8998836eb8>]"
      ]
     },
     "execution_count": 76,
     "metadata": {},
     "output_type": "execute_result"
    }
   ],
   "source": [
    "trip_markers and len(trip_markers) # 1000\n",
    "trip_markers\n",
    "#list(map(lambda marker: marker.location, trip_markers[0:4]))\n",
    "# [[40.64499, -73.78115],\n",
    "#  [40.766931, -73.982098],\n",
    "#  [40.77773, -73.951902],\n",
    "#  [40.795678, -73.971049]]"
   ]
  },
  {
   "cell_type": "markdown",
   "metadata": {},
   "source": [
    "Ok, now that we have a function that creates locations, and a function that creates markers, it is time to write a function to plot a map. \n",
    "\n",
    "Write a function called `map_from` that, provided the first argument of a list location and second argument an integer representing the `zoom_start`, returns a `folium` map the corresponding location and `zoom_start` attributes.\n",
    "\n",
    "> Hint: The following is how to write a map with folium:\n",
    "> ```python \n",
    "    folium.Map(location=location, zoom_start=zoom_amount)\n",
    "> ```"
   ]
  },
  {
   "cell_type": "code",
   "execution_count": null,
   "metadata": {},
   "outputs": [],
   "source": [
    "def map_from(location, zoom_amount):\n",
    "    pass"
   ]
  },
  {
   "cell_type": "code",
   "execution_count": null,
   "metadata": {},
   "outputs": [],
   "source": [
    "times_square_map = map_from([40.7589, -73.9851], 15)\n",
    "times_square_map and times_square_map.location # [40.7589, -73.9851]\n",
    "times_square_map and times_square_map.zoom_start # 15"
   ]
  },
  {
   "cell_type": "code",
   "execution_count": null,
   "metadata": {
    "scrolled": true
   },
   "outputs": [],
   "source": [
    "times_square_marker and times_square_marker.add_to(times_square_map)\n",
    "times_square_map"
   ]
  },
  {
   "cell_type": "markdown",
   "metadata": {},
   "source": [
    "Now that we have a marker and a map, now let's write a function that adds a lot of markers to a map.  This function should add each marker in the list to the map object then return the updated map object."
   ]
  },
  {
   "cell_type": "code",
   "execution_count": null,
   "metadata": {},
   "outputs": [],
   "source": [
    "manhattan_map = map_from([40.7589, -73.9851], 13)"
   ]
  },
  {
   "cell_type": "code",
   "execution_count": null,
   "metadata": {},
   "outputs": [],
   "source": [
    "def add_markers(markers, map_obj):\n",
    "    pass"
   ]
  },
  {
   "cell_type": "code",
   "execution_count": null,
   "metadata": {
    "scrolled": false
   },
   "outputs": [],
   "source": [
    "map_with_markers = add_markers(trip_markers, manhattan_map)"
   ]
  },
  {
   "cell_type": "code",
   "execution_count": null,
   "metadata": {},
   "outputs": [],
   "source": [
    "map_with_markers"
   ]
  },
  {
   "cell_type": "markdown",
   "metadata": {},
   "source": [
    "### Using Nearest Neighbors"
   ]
  },
  {
   "cell_type": "markdown",
   "metadata": {},
   "source": [
    "Ok, let's write a function that given a latitude and longitude will predict the distance for us.  We'll do this by first finding the nearest trips given a latitude and longitude. "
   ]
  },
  {
   "cell_type": "markdown",
   "metadata": {},
   "source": [
    "Here we once again apply the nearest neighbors formula. As a first step, write a function named `distance_location` that calculates the distance in pickup location between two trips."
   ]
  },
  {
   "cell_type": "code",
   "execution_count": null,
   "metadata": {},
   "outputs": [],
   "source": [
    "import math\n",
    "\n",
    "def distance_location(selected_trip, neighbor_trip):\n",
    "    pass"
   ]
  },
  {
   "cell_type": "code",
   "execution_count": null,
   "metadata": {},
   "outputs": [],
   "source": [
    "first_trip = {'pickup_latitude': 40.64499, 'pickup_longitude': -73.78115, 'trip_distance': 18.38}\n",
    "second_trip = {'pickup_latitude': 40.766931, 'pickup_longitude': -73.982098, 'trip_distance': 1.3}\n",
    "distance_first_and_second = distance_location(first_trip, second_trip)\n",
    "\n",
    "distance_first_and_second and round(distance_first_and_second, 3) # 0.235"
   ]
  },
  {
   "cell_type": "markdown",
   "metadata": {},
   "source": [
    "Ok, next write a function called `distance_between_neighbors` that adds a new key-value pair, called `distance_from_selected`, that calculates the distance of the `neighbor_trip` from the `selected_trip`."
   ]
  },
  {
   "cell_type": "code",
   "execution_count": null,
   "metadata": {},
   "outputs": [],
   "source": [
    "def distance_between_neighbors(selected_trip, neighbor_trip):\n",
    "    pass"
   ]
  },
  {
   "cell_type": "code",
   "execution_count": null,
   "metadata": {},
   "outputs": [],
   "source": [
    "distance_between_neighbors(first_trip, second_trip)\n",
    "\n",
    "# {'distance_from_selected': 0.23505256047318146,\n",
    "#  'pickup_latitude': 40.766931,\n",
    "#  'pickup_longitude': -73.982098,\n",
    "#  'trip_distance': 1.3}"
   ]
  },
  {
   "cell_type": "markdown",
   "metadata": {},
   "source": [
    "Ok, now our `neighbor_trip` has another attribute called `distance_from_selected`, that indicates the distance from the `neighbor_trip`'s pickup location from the `selected_trip`."
   ]
  },
  {
   "cell_type": "markdown",
   "metadata": {},
   "source": [
    "> ** Understand the data:** Our dictionary now has a few attributes, two of which say distance.  Let's make sure we understand the difference. \n",
    "> * **`distance_from_selected`:** This is our calculation of the distance of the neighbor's pickup location from the selected trip.\n",
    "> * **`trip_distance`:** This is the attribute we were provided initially.  It tells us the length of the neighbor's taxi trip from pickup to drop-off.  "
   ]
  },
  {
   "cell_type": "markdown",
   "metadata": {},
   "source": [
    "Next, write a function called `distance_all` that provided a list of neighbors, returns each of those neighbors with their respective `distance_from_selected` numbers."
   ]
  },
  {
   "cell_type": "code",
   "execution_count": null,
   "metadata": {},
   "outputs": [],
   "source": [
    "def distance_all(selected_individual, neighbors):\n",
    "    pass"
   ]
  },
  {
   "cell_type": "code",
   "execution_count": null,
   "metadata": {},
   "outputs": [],
   "source": [
    "cleaned_trips and distance_all(first_trip, cleaned_trips[0:4])"
   ]
  },
  {
   "cell_type": "markdown",
   "metadata": {},
   "source": [
    "Now write the nearest neighbors formula to calculate the distance of the `selected_trip` from all of the `cleaned_trips` in our dataset.  If no number is provided, it should return the top 3 neighbors."
   ]
  },
  {
   "cell_type": "code",
   "execution_count": null,
   "metadata": {},
   "outputs": [],
   "source": [
    "def nearest_neighbors(selected_trip, trips, number = 3):\n",
    "    pass"
   ]
  },
  {
   "cell_type": "code",
   "execution_count": null,
   "metadata": {},
   "outputs": [],
   "source": [
    "new_trip = {'pickup_latitude': 40.64499,\n",
    "'pickup_longitude': -73.78115,\n",
    "'trip_distance': 18.38}\n",
    "\n",
    "nearest_three_neighbors = nearest_neighbors(new_trip, cleaned_trips or [], number = 3)\n",
    "nearest_three_neighbors\n",
    "# [{'distance_from_selected': 0.0004569288784918792,\n",
    "#   'pickup_latitude': 40.64483,\n",
    "#   'pickup_longitude': -73.781578,\n",
    "#   'trip_distance': 7.78},\n",
    "#  {'distance_from_selected': 0.0011292165425673159,\n",
    "#   'pickup_latitude': 40.644657,\n",
    "#   'pickup_longitude': -73.782229,\n",
    "#   'trip_distance': 12.7},\n",
    "#  {'distance_from_selected': 0.0042359798158141185,\n",
    "#   'pickup_latitude': 40.648509,\n",
    "#   'pickup_longitude': -73.783508,\n",
    "#   'trip_distance': 17.3}]"
   ]
  },
  {
   "cell_type": "markdown",
   "metadata": {},
   "source": [
    "Ok great! Now that we can provide a new trip location, and find the distances of the three nearest trips, we can take  calculate an estimate of the trip distance for that new trip location.  \n",
    "\n",
    "We do so simply by calculating the average of it's nearest neighbors."
   ]
  },
  {
   "cell_type": "code",
   "execution_count": null,
   "metadata": {},
   "outputs": [],
   "source": [
    "import statistics\n",
    "def mean_distance(neighbors):\n",
    "    nearest_distances = list(map(lambda neighbor: neighbor['trip_distance'], neighbors))\n",
    "    return round(statistics.mean(nearest_distances), 3)\n",
    "\n",
    "nearest_three_neighbors = nearest_neighbors(new_trip, cleaned_trips or [], number = 3)\n",
    "distance_estimate_of_selected_trip = mean_distance(nearest_three_neighbors) # 12.593\n",
    "distance_estimate_of_selected_trip"
   ]
  },
  {
   "cell_type": "markdown",
   "metadata": {},
   "source": [
    "### Choosing the correct number of neighbors"
   ]
  },
  {
   "cell_type": "markdown",
   "metadata": {},
   "source": [
    "Now, as we know from the last lesson, one tricky element is to determine how many neighbors to choose, our $k$ value,  before calculating the average.  We want to choose our value of $k$ such that it properly matches actual data, and so that it applies to new data.  There are fancy formulas to ensure that we **train** our algorithm so that our formula is optimized for all data, but here let's see different $k$ values manually.  This is the gist of choosing our $k$ value:\n",
    "\n",
    "* If we choose a $k$ value too low, our formula will be too heavily influenced by a single neighbor, whereas if our $k$ value is too high, we will be choosing so many neighbors that our nearest neighbors formula will not be adjust enough according to locations.\n",
    "\n",
    "Ok, let's experiment with this."
   ]
  },
  {
   "cell_type": "markdown",
   "metadata": {},
   "source": [
    "First, let's choose a midtown location, to see what the trip distance would be.  A Google search reveals the coordinates of 51st and 7th avenue to be the following."
   ]
  },
  {
   "cell_type": "code",
   "execution_count": null,
   "metadata": {},
   "outputs": [],
   "source": [
    "midtown_trip = dict(pickup_latitude=40.761710, pickup_longitude=-73.982760)"
   ]
  },
  {
   "cell_type": "code",
   "execution_count": null,
   "metadata": {},
   "outputs": [],
   "source": [
    "seven_closest = nearest_neighbors(midtown_trip, cleaned_trips, number = 7)\n",
    "seven_closest\n",
    "# [{'trip_distance': 0.58,\n",
    "#   'pickup_latitude': 40.761372,\n",
    "#   'pickup_longitude': -73.982602,\n",
    "#   'distance_from_selected': 0.00037310588309379025},\n",
    "#  {'trip_distance': 0.8,\n",
    "#   'pickup_latitude': 40.762444,\n",
    "#   'pickup_longitude': -73.98244,\n",
    "#   'distance_from_selected': 0.00080072217404248},\n",
    "#  {'trip_distance': 1.4,\n",
    "#   'pickup_latitude': 40.762767,\n",
    "#   'pickup_longitude': -73.982293,\n",
    "#   'distance_from_selected': 0.0011555682584735844},\n",
    "#  {'trip_distance': 8.3,\n",
    "#   'pickup_latitude': 40.762868,\n",
    "#   'pickup_longitude': -73.983233,\n",
    "#   'distance_from_selected': 0.0012508768924205918},\n",
    "#  {'trip_distance': 1.26,\n",
    "#   'pickup_latitude': 40.760057,\n",
    "#   'pickup_longitude': -73.983502,\n",
    "#   'distance_from_selected': 0.0018118976240381972},\n",
    "#  {'trip_distance': 0.0,\n",
    "#   'pickup_latitude': 40.760644,\n",
    "#   'pickup_longitude': -73.984531,\n",
    "#   'distance_from_selected': 0.002067074502774709},\n",
    "#  {'trip_distance': 1.72,\n",
    "#   'pickup_latitude': 40.762107,\n",
    "#   'pickup_longitude': -73.98479,\n",
    "#   'distance_from_selected': 0.0020684557041472677}]"
   ]
  },
  {
   "cell_type": "markdown",
   "metadata": {},
   "source": [
    "Looking at the `distance_from_selected` it appears that our our trips are still fairly close to our selected trip.  Notice that most of the data is within a distance of .002 away, so going to the top 7 nearest neighbors didn't seem to give us neighbors too far from each other, which is a good sign.\n",
    "\n",
    "Still, it's hard to know what distance in latitude and longitude really look like, so let's map the data. "
   ]
  },
  {
   "cell_type": "code",
   "execution_count": null,
   "metadata": {},
   "outputs": [],
   "source": [
    "midtown_location = location(midtown_trip) # [40.76171, -73.98276]\n",
    "midtown_map = map_from(midtown_location, 16)\n",
    "closest_markers = markers_from_trips(seven_closest)\n",
    "\n",
    "add_markers(closest_markers, midtown_map)"
   ]
  },
  {
   "cell_type": "markdown",
   "metadata": {},
   "source": [
    "Ok.  These locations stay fairly close to our estimated location of 51st street and 7th Avenue.  So they could be a good estimate of a trip distance."
   ]
  },
  {
   "cell_type": "code",
   "execution_count": null,
   "metadata": {},
   "outputs": [],
   "source": [
    "mean_distance(seven_closest) # 2.009"
   ]
  },
  {
   "cell_type": "markdown",
   "metadata": {},
   "source": [
    "Ok, now let's try a different location"
   ]
  },
  {
   "cell_type": "code",
   "execution_count": null,
   "metadata": {},
   "outputs": [],
   "source": [
    "charging_bull_closest = nearest_neighbors({'pickup_latitude': 40.7049, 'pickup_longitude': -74.0137}, cleaned_trips, number = 12)"
   ]
  },
  {
   "cell_type": "code",
   "execution_count": null,
   "metadata": {
    "scrolled": true
   },
   "outputs": [],
   "source": [
    "mean_distance(charging_bull_closest) # 3.145"
   ]
  },
  {
   "cell_type": "markdown",
   "metadata": {},
   "source": [
    "Ok, so there appears to be a significant difference between choosing a location near Times Square versus choosing a location at Wall Street."
   ]
  },
  {
   "cell_type": "markdown",
   "metadata": {},
   "source": [
    "### Summary"
   ]
  },
  {
   "cell_type": "markdown",
   "metadata": {},
   "source": [
    "In this lab, we used the nearest neighbors function to predict the length of a taxi ride.  To do so, we selected a location, then found a number of taxi rides closest to that location, and finally took the average trip lengths of the nearest taxi rides to find an estimate of the new ride's trip length.  You can see that even with just a little bit of math and programming we can begin to make meaningful predictions with data."
   ]
  }
 ],
 "metadata": {
  "kernelspec": {
   "display_name": "Python 3",
   "language": "python",
   "name": "python3"
  },
  "language_info": {
   "codemirror_mode": {
    "name": "ipython",
    "version": 3
   },
   "file_extension": ".py",
   "mimetype": "text/x-python",
   "name": "python",
   "nbconvert_exporter": "python",
   "pygments_lexer": "ipython3",
   "version": "3.6.9"
  }
 },
 "nbformat": 4,
 "nbformat_minor": 2
}
